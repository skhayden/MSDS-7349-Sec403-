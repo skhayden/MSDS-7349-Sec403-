{
 "cells": [
  {
   "cell_type": "code",
   "execution_count": 2,
   "metadata": {},
   "outputs": [
    {
     "name": "stdout",
     "output_type": "stream",
     "text": [
      "[*] Cracking Password For: victim\n",
      "[+] Found Password: egg\n",
      "\n",
      "[*] Cracking Password For: root\n",
      "[-] Password Not Found.\n",
      "\n"
     ]
    }
   ],
   "source": [
    "import fcrypt\n",
    "def testPass(cryptPass):\t  # Start the function\n",
    "  salt = cryptPass[0:2]\n",
    "  dictFile = open('C:\\\\Users\\emccandless\\HW3dictionary.txt','rb')\t  # Open the dictionary file\n",
    "  for password in dictFile.readlines():\t  # Scan through the file\n",
    "    password = password.strip('\\n')\n",
    "    NewHash = fcrypt.crypt(password, salt)\t  # Check for password in the file\n",
    "    if (NewHash == cryptPass):\n",
    "      print(\"[+] Found Password: \"+password+\"\\n\")\n",
    "      return\n",
    "  print(\"[-] Password Not Found.\\n\")\n",
    "  return\n",
    "\n",
    "\n",
    "def main():\n",
    "  passFile = open('C:\\\\Users\\emccandless\\HW3passwords.txt', 'rb')\t\t  # Open the password file\n",
    "  for line in passFile.readlines():\t   # Read through the file\n",
    "    if \":\" in line:\n",
    "      user = line.split(':')[0]\n",
    "      cryptPass = line.split(':')[1].strip(' ') # Prepare the user name etc\n",
    "      print(\"[*] Cracking Password For: \" + user)\n",
    "      testPass(cryptPass)\t\t\t\t# Call it to crack the users password\n",
    "\n",
    "if __name__ == '__main__':\n",
    "  main()"
   ]
  },
  {
   "cell_type": "code",
   "execution_count": null,
   "metadata": {},
   "outputs": [],
   "source": []
  }
 ],
 "metadata": {
  "kernelspec": {
   "display_name": "Python [conda env:py27]",
   "language": "python",
   "name": "conda-env-py27-py"
  },
  "language_info": {
   "codemirror_mode": {
    "name": "ipython",
    "version": 2
   },
   "file_extension": ".py",
   "mimetype": "text/x-python",
   "name": "python",
   "nbconvert_exporter": "python",
   "pygments_lexer": "ipython2",
   "version": "2.7.16"
  }
 },
 "nbformat": 4,
 "nbformat_minor": 2
}
