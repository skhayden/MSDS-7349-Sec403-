{
 "cells": [
  {
   "cell_type": "code",
   "execution_count": null,
   "metadata": {},
   "outputs": [],
   "source": [
    "import bcrypt\n",
    "import pandas as pd\n",
    "import numpy as np\n",
    "import urllib3"
   ]
  },
  {
   "cell_type": "code",
   "execution_count": null,
   "metadata": {},
   "outputs": [],
   "source": [
    "def trypassword(cryptpas):\n",
    "    salt = cryptPass[0:2]\n",
    "    with open('HW3dictionary_2_2_2_2_2_2_2_2_2','r') as f:\n",
    "        for line in f:\n",
    "            for word in line.split():\n",
    "                dicPassword = word.strip('\\n')\n",
    "                cryptWord = fcrypt.crypt(dicPassword,salt)\n",
    "                if (cryptWord == cryptpas):\n",
    "                    print (\"[+] Found Password: \" +dicPassword+'\\n')\n",
    "                    return\n",
    "        print('[-] Password not found.')\n",
    "        return"
   ]
  },
  {
   "cell_type": "code",
   "execution_count": null,
   "metadata": {},
   "outputs": [],
   "source": []
  },
  {
   "cell_type": "code",
   "execution_count": null,
   "metadata": {},
   "outputs": [],
   "source": [
    "\n",
    "password= open('HW3passwords_2_2_2_2_2_2_2_2_2')\n",
    "    for line in password.readlines():\n",
    "        if ':' in line:\n",
    "            user = line.split(':')[0]\n",
    "            cryptPass = line.split(':')[1].strip(' ')\n",
    "           \n"
   ]
  },
  {
   "cell_type": "code",
   "execution_count": null,
   "metadata": {},
   "outputs": [],
   "source": []
  },
  {
   "cell_type": "code",
   "execution_count": null,
   "metadata": {},
   "outputs": [],
   "source": []
  },
  {
   "cell_type": "code",
   "execution_count": null,
   "metadata": {},
   "outputs": [],
   "source": []
  }
 ],
 "metadata": {
  "kernelspec": {
   "display_name": "Python 3",
   "language": "python",
   "name": "python3"
  },
  "language_info": {
   "codemirror_mode": {
    "name": "ipython",
    "version": 3
   },
   "file_extension": ".py",
   "mimetype": "text/x-python",
   "name": "python",
   "nbconvert_exporter": "python",
   "pygments_lexer": "ipython3",
   "version": "3.7.0"
  }
 },
 "nbformat": 4,
 "nbformat_minor": 2
}
