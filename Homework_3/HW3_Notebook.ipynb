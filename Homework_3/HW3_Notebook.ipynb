{
 "cells": [
  {
   "cell_type": "code",
   "execution_count": null,
   "metadata": {},
   "outputs": [],
   "source": [
    "import bcrypt\n",
    "import pandas as pd\n",
    "import numpy as np\n",
    "import urllib3"
   ]
  },
  {
   "cell_type": "markdown",
   "metadata": {},
   "source": [
    "### HW Q1"
   ]
  },
  {
   "cell_type": "code",
   "execution_count": 1,
   "metadata": {},
   "outputs": [
    {
     "name": "stdout",
     "output_type": "stream",
     "text": [
      "[*] Cracking Password For: victim\n",
      "[+] Found Password: egg\n",
      "\n",
      "[*] Cracking Password For: root\n",
      "[-] Password Not Found.\n",
      "\n"
     ]
    }
   ],
   "source": [
    "import fcrypt\n",
    "def testPass(cryptPass):\t  # Start the function\n",
    "  salt = cryptPass[0:2]\n",
    "  dictFile = open('C:\\Users\\shayden\\Documents\\SMU\\Data and Network Security\\MSDS-7349-Sec403-\\Homework_3\\HW3dictionary_2_2_2_2_2_2_2_2_2.txt','rb')\t  # Open the dictionary file\n",
    "  for password in dictFile.readlines():\t  # Scan through the file\n",
    "    password = password.strip('\\n')\n",
    "    NewHash = fcrypt.crypt(password, salt)\t  # Check for password in the file\n",
    "    if (NewHash == cryptPass):\n",
    "      print(\"[+] Found Password: \"+password+\"\\n\")\n",
    "      return\n",
    "  print(\"[-] Password Not Found.\\n\")\n",
    "  return\n",
    "\n",
    "\n",
    "def main():\n",
    "  passFile = open('C:\\Users\\shayden\\Documents\\SMU\\Data and Network Security\\MSDS-7349-Sec403-\\Homework_3\\HW3passwords_2_2_2_2_2_2_2_2_2.txt', 'rb')\t\t  # Open the password file\n",
    "  for line in passFile.readlines():\t   # Read through the file\n",
    "    if \":\" in line:\n",
    "      user = line.split(':')[0]\n",
    "      cryptPass = line.split(':')[1].strip(' ') # Prepare the user name etc\n",
    "      print(\"[*] Cracking Password For: \" + user)\n",
    "      testPass(cryptPass)\t\t\t\t# Call it to crack the users password\n",
    "\n",
    "if __name__ == '__main__':\n",
    "  main()"
   ]
  },
  {
   "cell_type": "markdown",
   "metadata": {},
   "source": [
    "### HW Q2"
   ]
  },
  {
   "cell_type": "code",
   "execution_count": 3,
   "metadata": {},
   "outputs": [
    {
     "name": "stdout",
     "output_type": "stream",
     "text": [
      "[-] Not Match apple\n",
      "[-] Not Match orange\n",
      "[-] Not Match egg\n",
      "[-] Not Match lemon\n",
      "[-] Not Match grapes\n",
      "[+] password found secret\n",
      "\n",
      "[-] Not Match strawberry\n",
      "[-] Not Match password\n"
     ]
    }
   ],
   "source": [
    "\n",
    "import zipfile\n",
    "zFile = zipfile.ZipFile('C:\\Users\\shayden\\Documents\\SMU\\Data and Network Security\\MSDS-7349-Sec403-\\Homework_3\\evil_2_2_2_2_2_2_2_2_2_2_2.zip')\n",
    "passFile = open('C:\\Users\\shayden\\Documents\\SMU\\Data and Network Security\\MSDS-7349-Sec403-\\Homework_3\\HW3dictionary_2_2_2_2_2_2_2_2_2.txt')\n",
    "for line in passFile.readlines():\n",
    "    try:\n",
    "        password = line.strip('\\n')\n",
    "        zFile.extractall(pwd=password)\n",
    "        print '[+] password found ' +password+ '\\n'\n",
    "    except Exception, e:\n",
    "        print '[-] Not Match ' +password "
   ]
  },
  {
   "cell_type": "markdown",
   "metadata": {},
   "source": [
    "### HW Q3"
   ]
  },
  {
   "cell_type": "code",
   "execution_count": 1,
   "metadata": {},
   "outputs": [
    {
     "name": "stdout",
     "output_type": "stream",
     "text": [
      "enter a remote host to scan: 10.49.170.148\n",
      "------------------------------------------------------------\n",
      "('Please wait, scanning remote host', '10.49.170.148')\n",
      "------------------------------------------------------------\n",
      "port 135:     open\n",
      "port 139:     open\n",
      "('Scanning completed in: ', datetime.timedelta(0, 221, 679000))\n"
     ]
    }
   ],
   "source": [
    "import socket\n",
    "import subprocess\n",
    "import sys\n",
    "from datetime import datetime \n",
    "\n",
    "#clear the screen\n",
    "subprocess.call('clear',shell=True)\n",
    "#inpute website address and return IP address\n",
    "remoteServer = raw_input(\"enter a remote host to scan: \")\n",
    "remoteServerIP = socket.gethostbyname(remoteServer)\n",
    "\n",
    "#print info of host\n",
    "print(\"-\"* 60)\n",
    "print(\"Please wait, scanning remote host\", remoteServerIP)\n",
    "print(\"-\"* 60)\n",
    "\n",
    "# set timer\n",
    "t1 = datetime.now()\n",
    "\n",
    "#scan ports 1-225\n",
    "try:\n",
    "    for port in range (1,225):\n",
    "        sock = socket.socket(socket.AF_INET, socket.SOCK_STREAM)\n",
    "        result = sock.connect_ex((remoteServerIP,port))\n",
    "        #print(result)\n",
    "        if result == 0:\n",
    "            print(\"port {}:     open\".format(port))\n",
    "        sock.close()\n",
    "#error handling statements\n",
    "except KeyboardInterrupt:\n",
    "    Print(\"You pressed Ctrl+C\")\n",
    "    sys.exit()\n",
    "    \n",
    "except socket.gaierror:\n",
    "    print('hostname could not be resolved. Exiting')\n",
    "    sys.exit()\n",
    "        \n",
    "t2 = datetime.now()\n",
    "total = t2 - t1\n",
    "print('Scanning completed in: ', total)"
   ]
  },
  {
   "cell_type": "code",
   "execution_count": 14,
   "metadata": {},
   "outputs": [
    {
     "name": "stdout",
     "output_type": "stream",
     "text": [
      "enter a remote host to scan: 1.2.3.4\n"
     ]
    }
   ],
   "source": [
    "remoteServer = raw_input(\"enter a remote host to scan: \")"
   ]
  },
  {
   "cell_type": "code",
   "execution_count": null,
   "metadata": {},
   "outputs": [],
   "source": []
  }
 ],
 "metadata": {
  "kernelspec": {
   "display_name": "Python 2",
   "language": "python",
   "name": "python2"
  },
  "language_info": {
   "codemirror_mode": {
    "name": "ipython",
    "version": 2
   },
   "file_extension": ".py",
   "mimetype": "text/x-python",
   "name": "python",
   "nbconvert_exporter": "python",
   "pygments_lexer": "ipython2",
   "version": "2.7.16"
  }
 },
 "nbformat": 4,
 "nbformat_minor": 2
}
