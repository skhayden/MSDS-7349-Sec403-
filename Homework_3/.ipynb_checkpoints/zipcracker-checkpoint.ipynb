{
 "cells": [
  {
   "cell_type": "code",
   "execution_count": 2,
   "metadata": {},
   "outputs": [
    {
     "name": "stdout",
     "output_type": "stream",
     "text": [
      "[-] Not Match apple\n",
      "[-] Not Match orange\n",
      "[-] Not Match egg\n",
      "[-] Not Match lemon\n",
      "[-] Not Match grapes\n",
      "[+] password found secret\n",
      "\n",
      "[-] Not Match strawberry\n",
      "[-] Not Match password\n"
     ]
    }
   ],
   "source": [
    "import zipfile\n",
    "zFile = zipfile.ZipFile('C:\\\\Users\\emccandless\\evil_2.zip')\n",
    "passFile = open('C:\\\\Users\\emccandless\\HW3dictionary.txt')\n",
    "for line in passFile.readlines():\n",
    "    try:\n",
    "        password = line.strip('\\n')\n",
    "        zFile.extractall(pwd=password)\n",
    "        print '[+] password found ' +password+ '\\n'\n",
    "    except Exception, e:\n",
    "        print '[-] Not Match ' +password "
   ]
  },
  {
   "cell_type": "code",
   "execution_count": null,
   "metadata": {},
   "outputs": [],
   "source": []
  }
 ],
 "metadata": {
  "kernelspec": {
   "display_name": "Python 2",
   "language": "python",
   "name": "python2"
  },
  "language_info": {
   "codemirror_mode": {
    "name": "ipython",
    "version": 2
   },
   "file_extension": ".py",
   "mimetype": "text/x-python",
   "name": "python",
   "nbconvert_exporter": "python",
   "pygments_lexer": "ipython2",
   "version": "2.7.16"
  }
 },
 "nbformat": 4,
 "nbformat_minor": 2
}
