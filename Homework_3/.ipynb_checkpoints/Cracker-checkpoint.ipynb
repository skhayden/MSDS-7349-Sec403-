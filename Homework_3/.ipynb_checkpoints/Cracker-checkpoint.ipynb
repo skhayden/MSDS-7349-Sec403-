{
 "cells": [
  {
   "cell_type": "code",
   "execution_count": 1,
   "metadata": {},
   "outputs": [
    {
     "ename": "SyntaxError",
     "evalue": "(unicode error) 'unicodeescape' codec can't decode bytes in position 2-3: truncated \\UXXXXXXXX escape (<ipython-input-1-fcfd67333ab9>, line 4)",
     "output_type": "error",
     "traceback": [
      "\u001b[1;36m  File \u001b[1;32m\"<ipython-input-1-fcfd67333ab9>\"\u001b[1;36m, line \u001b[1;32m4\u001b[0m\n\u001b[1;33m    dictFile = open('C:\\Users\\shayden\\Documents\\SMU\\Data and Network Security\\MSDS-7349-Sec403-\\Homework_3\\HW3dictionary.txt','rb')\t  # Open the dictionary file\u001b[0m\n\u001b[1;37m                   ^\u001b[0m\n\u001b[1;31mSyntaxError\u001b[0m\u001b[1;31m:\u001b[0m (unicode error) 'unicodeescape' codec can't decode bytes in position 2-3: truncated \\UXXXXXXXX escape\n"
     ]
    }
   ],
   "source": [
    "import fcrypt\n",
    "def testPass(cryptPass):\t  # Start the function\n",
    "  salt = cryptPass[0:2]\n",
    "  dictFile = open('C:\\Users\\shayden\\Documents\\SMU\\Data and Network Security\\MSDS-7349-Sec403-\\Homework_3\\HW3dictionary.txt','rb')\t  # Open the dictionary file\n",
    "  for password in dictFile.readlines():\t  # Scan through the file\n",
    "    password = password.strip('\\n')\n",
    "    NewHash = fcrypt.crypt(password, salt)\t  # Check for password in the file\n",
    "    if (NewHash == cryptPass):\n",
    "      print(\"[+] Found Password: \"+password+\"\\n\")\n",
    "      return\n",
    "  print(\"[-] Password Not Found.\\n\")\n",
    "  return\n",
    "\n",
    "\n",
    "def main():\n",
    "  passFile = open('C:\\Users\\shayden\\Documents\\SMU\\Data and Network Security\\MSDS-7349-Sec403-\\Homework_3\\HW3passwords.txt', 'rb')\t\t  # Open the password file\n",
    "  for line in passFile.readlines():\t   # Read through the file\n",
    "    if \":\" in line:\n",
    "      user = line.split(':')[0]\n",
    "      cryptPass = line.split(':')[1].strip(' ') # Prepare the user name etc\n",
    "      print(\"[*] Cracking Password For: \" + user)\n",
    "      testPass(cryptPass)\t\t\t\t# Call it to crack the users password\n",
    "\n",
    "if __name__ == '__main__':\n",
    "  main()"
   ]
  },
  {
   "cell_type": "code",
   "execution_count": null,
   "metadata": {},
   "outputs": [],
   "source": []
  }
 ],
 "metadata": {
  "kernelspec": {
   "display_name": "Python 3",
   "language": "python",
   "name": "python3"
  },
  "language_info": {
   "codemirror_mode": {
    "name": "ipython",
    "version": 3
   },
   "file_extension": ".py",
   "mimetype": "text/x-python",
   "name": "python",
   "nbconvert_exporter": "python",
   "pygments_lexer": "ipython3",
   "version": "3.7.0"
  }
 },
 "nbformat": 4,
 "nbformat_minor": 2
}
