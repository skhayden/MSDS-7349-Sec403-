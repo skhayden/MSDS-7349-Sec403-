{
 "cells": [
  {
   "cell_type": "markdown",
   "metadata": {},
   "source": [
    "# Anonymizing Data Project\n"
   ]
  },
  {
   "cell_type": "code",
   "execution_count": 1,
   "metadata": {},
   "outputs": [],
   "source": [
    "import pandas as pd\n",
    "import numpy as np\n",
    "import scipy.stats\n",
    "import datetime\n",
    "%matplotlib inline\n",
    "import matplotlib.pyplot as plt\n",
    "import seaborn as sns\n",
    "import scipy.stats as stats"
   ]
  },
  {
   "cell_type": "code",
   "execution_count": 2,
   "metadata": {},
   "outputs": [
    {
     "data": {
      "text/html": [
       "<div>\n",
       "<style scoped>\n",
       "    .dataframe tbody tr th:only-of-type {\n",
       "        vertical-align: middle;\n",
       "    }\n",
       "\n",
       "    .dataframe tbody tr th {\n",
       "        vertical-align: top;\n",
       "    }\n",
       "\n",
       "    .dataframe thead th {\n",
       "        text-align: right;\n",
       "    }\n",
       "</style>\n",
       "<table border=\"1\" class=\"dataframe\">\n",
       "  <thead>\n",
       "    <tr style=\"text-align: right;\">\n",
       "      <th></th>\n",
       "      <th>First Name</th>\n",
       "      <th>Last Name</th>\n",
       "      <th>Date of Birth</th>\n",
       "      <th>Job</th>\n",
       "      <th>Address</th>\n",
       "      <th>Salary</th>\n",
       "      <th>SSN</th>\n",
       "      <th>Employee_Id</th>\n",
       "      <th>Office_Location</th>\n",
       "      <th>Building_number</th>\n",
       "      <th>Phone_Number</th>\n",
       "      <th>Email</th>\n",
       "    </tr>\n",
       "  </thead>\n",
       "  <tbody>\n",
       "    <tr>\n",
       "      <th>0</th>\n",
       "      <td>Matthew</td>\n",
       "      <td>Johnson</td>\n",
       "      <td>4/11/1993</td>\n",
       "      <td>Research scientist (physical sciences)</td>\n",
       "      <td>USS Walker\\nFPO AA 91930</td>\n",
       "      <td>64822</td>\n",
       "      <td>691-17-3378</td>\n",
       "      <td>P37429</td>\n",
       "      <td>West Andrew</td>\n",
       "      <td>961</td>\n",
       "      <td>3298685475</td>\n",
       "      <td>Matthewgmail.com</td>\n",
       "    </tr>\n",
       "    <tr>\n",
       "      <th>1</th>\n",
       "      <td>Elizabeth</td>\n",
       "      <td>Frazier</td>\n",
       "      <td>6/17/1989</td>\n",
       "      <td>Therapist, speech and language</td>\n",
       "      <td>8283 Kimberly Streets Apt. 001\\nEast Edward, D...</td>\n",
       "      <td>37351</td>\n",
       "      <td>675-40-3501</td>\n",
       "      <td>P90953</td>\n",
       "      <td>South Tammymouth</td>\n",
       "      <td>590</td>\n",
       "      <td>524-601-7567x7090</td>\n",
       "      <td>EFrazier93erez.com</td>\n",
       "    </tr>\n",
       "    <tr>\n",
       "      <th>2</th>\n",
       "      <td>Lori</td>\n",
       "      <td>Vargas</td>\n",
       "      <td>8/24/1959</td>\n",
       "      <td>Designer, furniture</td>\n",
       "      <td>235 Devin Ridges\\nCraneshire, OR 16065</td>\n",
       "      <td>74379</td>\n",
       "      <td>821-81-4954</td>\n",
       "      <td>P38017</td>\n",
       "      <td>West Arthur</td>\n",
       "      <td>198</td>\n",
       "      <td>316-095-9037x69942</td>\n",
       "      <td>Loriegregory@smith.com</td>\n",
       "    </tr>\n",
       "    <tr>\n",
       "      <th>3</th>\n",
       "      <td>Sarah</td>\n",
       "      <td>Espinoza</td>\n",
       "      <td>12/1/1983</td>\n",
       "      <td>Water engineer</td>\n",
       "      <td>78762 Eileen Camp\\nNelsonhaven, ID 36069</td>\n",
       "      <td>81275</td>\n",
       "      <td>124-10-4970</td>\n",
       "      <td>P91959</td>\n",
       "      <td>Greerborough</td>\n",
       "      <td>10033</td>\n",
       "      <td>+1-209-595-5257x826</td>\n",
       "      <td>SEspinozad-perry.com</td>\n",
       "    </tr>\n",
       "    <tr>\n",
       "      <th>4</th>\n",
       "      <td>Melissa</td>\n",
       "      <td>Hunter</td>\n",
       "      <td>9/24/1949</td>\n",
       "      <td>Agricultural engineer</td>\n",
       "      <td>3346 Anderson Lakes\\nShawville, IL 85803</td>\n",
       "      <td>35409</td>\n",
       "      <td>789-99-6633</td>\n",
       "      <td>P36920</td>\n",
       "      <td>Davisburgh</td>\n",
       "      <td>633</td>\n",
       "      <td>44421409</td>\n",
       "      <td>Melissazkimberly@wiley.com</td>\n",
       "    </tr>\n",
       "  </tbody>\n",
       "</table>\n",
       "</div>"
      ],
      "text/plain": [
       "  First Name Last Name Date of Birth                                     Job  \\\n",
       "0    Matthew   Johnson     4/11/1993  Research scientist (physical sciences)   \n",
       "1  Elizabeth   Frazier     6/17/1989          Therapist, speech and language   \n",
       "2       Lori    Vargas     8/24/1959                     Designer, furniture   \n",
       "3      Sarah  Espinoza     12/1/1983                          Water engineer   \n",
       "4    Melissa    Hunter     9/24/1949                   Agricultural engineer   \n",
       "\n",
       "                                             Address  Salary          SSN  \\\n",
       "0                           USS Walker\\nFPO AA 91930   64822  691-17-3378   \n",
       "1  8283 Kimberly Streets Apt. 001\\nEast Edward, D...   37351  675-40-3501   \n",
       "2             235 Devin Ridges\\nCraneshire, OR 16065   74379  821-81-4954   \n",
       "3           78762 Eileen Camp\\nNelsonhaven, ID 36069   81275  124-10-4970   \n",
       "4           3346 Anderson Lakes\\nShawville, IL 85803   35409  789-99-6633   \n",
       "\n",
       "  Employee_Id   Office_Location  Building_number         Phone_Number  \\\n",
       "0      P37429       West Andrew              961           3298685475   \n",
       "1      P90953  South Tammymouth              590    524-601-7567x7090   \n",
       "2      P38017       West Arthur              198   316-095-9037x69942   \n",
       "3      P91959      Greerborough            10033  +1-209-595-5257x826   \n",
       "4      P36920        Davisburgh              633             44421409   \n",
       "\n",
       "                        Email  \n",
       "0            Matthewgmail.com  \n",
       "1          EFrazier93erez.com  \n",
       "2      Loriegregory@smith.com  \n",
       "3        SEspinozad-perry.com  \n",
       "4  Melissazkimberly@wiley.com  "
      ]
     },
     "execution_count": 2,
     "metadata": {},
     "output_type": "execute_result"
    }
   ],
   "source": [
    "\n",
    "#import file into DF\n",
    "Employee_data_DF = pd.read_csv('https://raw.githubusercontent.com/skhayden/MSDS-7349-Sec403-/master/Class_Project/Employee_data.csv',low_memory=False)\n",
    "#Remove unneeded columns\n",
    "Employee_data_DF.drop(['Job.1','Unnamed: 0'], axis = 1, inplace = True) \n",
    "Employee_data_DF.head()"
   ]
  },
  {
   "cell_type": "code",
   "execution_count": 3,
   "metadata": {},
   "outputs": [
    {
     "name": "stderr",
     "output_type": "stream",
     "text": [
      "C:\\Users\\otany\\Anaconda3\\lib\\site-packages\\seaborn\\categorical.py:462: FutureWarning: remove_na is deprecated and is a private function. Do not use.\n",
      "  box_data = remove_na(group_data)\n"
     ]
    },
    {
     "data": {
      "image/png": "[encoded data removed]",
      "text/plain": [
       "<matplotlib.figure.Figure at 0x24029d9d828>"
      ]
     },
     "metadata": {
      "needs_background": "light"
     },
     "output_type": "display_data"
    }
   ],
   "source": [
    "a1 = sns.boxplot(x=Employee_data_DF['Salary'])"
   ]
  },
  {
   "cell_type": "markdown",
   "metadata": {},
   "source": [
    "10% off the records in Employee data set had Salaries > 130K, those were outliers. They were excluded from analysis. Employee data set did not have NA values."
   ]
  },
  {
   "cell_type": "code",
   "execution_count": 4,
   "metadata": {},
   "outputs": [],
   "source": [
    "#remove false records and replot\n",
    "Employee_data = Employee_data_DF[Employee_data_DF.Salary < 130000]"
   ]
  },
  {
   "cell_type": "code",
   "execution_count": 5,
   "metadata": {},
   "outputs": [
    {
     "name": "stderr",
     "output_type": "stream",
     "text": [
      "C:\\Users\\otany\\Anaconda3\\lib\\site-packages\\seaborn\\categorical.py:462: FutureWarning: remove_na is deprecated and is a private function. Do not use.\n",
      "  box_data = remove_na(group_data)\n"
     ]
    },
    {
     "data": {
      "image/png": "[encoded data removed]",
      "text/plain": [
       "<matplotlib.figure.Figure at 0x240268e8b70>"
      ]
     },
     "metadata": {
      "needs_background": "light"
     },
     "output_type": "display_data"
    }
   ],
   "source": [
    "a1 = sns.boxplot(x=Employee_data['Salary'])"
   ]
  },
  {
   "cell_type": "code",
   "execution_count": 6,
   "metadata": {},
   "outputs": [],
   "source": [
    "Employee_data = Employee_data.reset_index(drop=True)"
   ]
  },
  {
   "cell_type": "code",
   "execution_count": 8,
   "metadata": {},
   "outputs": [
    {
     "name": "stdout",
     "output_type": "stream",
     "text": [
      "<class 'pandas.core.frame.DataFrame'>\n",
      "RangeIndex: 20134 entries, 0 to 20133\n",
      "Data columns (total 12 columns):\n",
      "First Name         20134 non-null object\n",
      "Last Name          20134 non-null object\n",
      "Date of Birth      20134 non-null object\n",
      "Job                20134 non-null object\n",
      "Address            20134 non-null object\n",
      "Salary             20134 non-null int64\n",
      "SSN                20134 non-null object\n",
      "Employee_Id        20134 non-null object\n",
      "Office_Location    20134 non-null object\n",
      "Building_number    20134 non-null int64\n",
      "Phone_Number       20134 non-null object\n",
      "Email              20134 non-null object\n",
      "dtypes: int64(2), object(10)\n",
      "memory usage: 1.8+ MB\n"
     ]
    }
   ],
   "source": [
    "Employee_data.info()"
   ]
  },
  {
   "cell_type": "markdown",
   "metadata": {},
   "source": [
    "##### Pseudonymization and Suppression"
   ]
  },
  {
   "cell_type": "markdown",
   "metadata": {},
   "source": [
    "We generated 5 digit code \"Person_ID\" for each employee (Pseudonymization) and creted two data sets: Secret data set with sensetive data, which is securely kept, and Anonymized data set, that will be used for further anonimization. From Anonymized data set sensetive attributes such as \"First Name\", \"Last Name\", \"Address\", \"SSN\", \"Employee_Id\", \"Phone_Number\", \"Email\" were deleted (Suppression). But we included Person_ID in it for future reversing."
   ]
  },
  {
   "cell_type": "code",
   "execution_count": 7,
   "metadata": {},
   "outputs": [],
   "source": [
    "from random import randint\n",
    "\n",
    "def random_with_N_digits(n):\n",
    "    range_start = 10**(n-1)\n",
    "    range_end = (10**n)-1\n",
    "    return randint(range_start, range_end)\n"
   ]
  },
  {
   "cell_type": "code",
   "execution_count": 9,
   "metadata": {},
   "outputs": [
    {
     "data": {
      "text/html": [
       "<div>\n",
       "<style scoped>\n",
       "    .dataframe tbody tr th:only-of-type {\n",
       "        vertical-align: middle;\n",
       "    }\n",
       "\n",
       "    .dataframe tbody tr th {\n",
       "        vertical-align: top;\n",
       "    }\n",
       "\n",
       "    .dataframe thead th {\n",
       "        text-align: right;\n",
       "    }\n",
       "</style>\n",
       "<table border=\"1\" class=\"dataframe\">\n",
       "  <thead>\n",
       "    <tr style=\"text-align: right;\">\n",
       "      <th></th>\n",
       "      <th>Person_id</th>\n",
       "    </tr>\n",
       "  </thead>\n",
       "  <tbody>\n",
       "    <tr>\n",
       "      <th>20129</th>\n",
       "      <td>40244</td>\n",
       "    </tr>\n",
       "    <tr>\n",
       "      <th>20130</th>\n",
       "      <td>45931</td>\n",
       "    </tr>\n",
       "    <tr>\n",
       "      <th>20131</th>\n",
       "      <td>12835</td>\n",
       "    </tr>\n",
       "    <tr>\n",
       "      <th>20132</th>\n",
       "      <td>28976</td>\n",
       "    </tr>\n",
       "    <tr>\n",
       "      <th>20133</th>\n",
       "      <td>48191</td>\n",
       "    </tr>\n",
       "  </tbody>\n",
       "</table>\n",
       "</div>"
      ],
      "text/plain": [
       "       Person_id\n",
       "20129      40244\n",
       "20130      45931\n",
       "20131      12835\n",
       "20132      28976\n",
       "20133      48191"
      ]
     },
     "execution_count": 9,
     "metadata": {},
     "output_type": "execute_result"
    }
   ],
   "source": [
    "d = np.random.randint(10000,50000,20134)\n",
    "Person_id = pd.DataFrame(d, columns = [\"Person_id\"])\n",
    "Person_id.tail()"
   ]
  },
  {
   "cell_type": "code",
   "execution_count": 10,
   "metadata": {},
   "outputs": [
    {
     "data": {
      "text/html": [
       "<div>\n",
       "<style scoped>\n",
       "    .dataframe tbody tr th:only-of-type {\n",
       "        vertical-align: middle;\n",
       "    }\n",
       "\n",
       "    .dataframe tbody tr th {\n",
       "        vertical-align: top;\n",
       "    }\n",
       "\n",
       "    .dataframe thead th {\n",
       "        text-align: right;\n",
       "    }\n",
       "</style>\n",
       "<table border=\"1\" class=\"dataframe\">\n",
       "  <thead>\n",
       "    <tr style=\"text-align: right;\">\n",
       "      <th></th>\n",
       "      <th>Person_id</th>\n",
       "      <th>First Name</th>\n",
       "      <th>Last Name</th>\n",
       "      <th>Address</th>\n",
       "      <th>SSN</th>\n",
       "      <th>Employee_Id</th>\n",
       "      <th>Building_number</th>\n",
       "      <th>Phone_Number</th>\n",
       "      <th>Email</th>\n",
       "    </tr>\n",
       "  </thead>\n",
       "  <tbody>\n",
       "    <tr>\n",
       "      <th>0</th>\n",
       "      <td>16436</td>\n",
       "      <td>Matthew</td>\n",
       "      <td>Johnson</td>\n",
       "      <td>USS Walker\\nFPO AA 91930</td>\n",
       "      <td>691-17-3378</td>\n",
       "      <td>P37429</td>\n",
       "      <td>961</td>\n",
       "      <td>3298685475</td>\n",
       "      <td>Matthewgmail.com</td>\n",
       "    </tr>\n",
       "    <tr>\n",
       "      <th>1</th>\n",
       "      <td>17865</td>\n",
       "      <td>Elizabeth</td>\n",
       "      <td>Frazier</td>\n",
       "      <td>8283 Kimberly Streets Apt. 001\\nEast Edward, D...</td>\n",
       "      <td>675-40-3501</td>\n",
       "      <td>P90953</td>\n",
       "      <td>590</td>\n",
       "      <td>524-601-7567x7090</td>\n",
       "      <td>EFrazier93erez.com</td>\n",
       "    </tr>\n",
       "    <tr>\n",
       "      <th>2</th>\n",
       "      <td>33748</td>\n",
       "      <td>Lori</td>\n",
       "      <td>Vargas</td>\n",
       "      <td>235 Devin Ridges\\nCraneshire, OR 16065</td>\n",
       "      <td>821-81-4954</td>\n",
       "      <td>P38017</td>\n",
       "      <td>198</td>\n",
       "      <td>316-095-9037x69942</td>\n",
       "      <td>Loriegregory@smith.com</td>\n",
       "    </tr>\n",
       "    <tr>\n",
       "      <th>3</th>\n",
       "      <td>33594</td>\n",
       "      <td>Sarah</td>\n",
       "      <td>Espinoza</td>\n",
       "      <td>78762 Eileen Camp\\nNelsonhaven, ID 36069</td>\n",
       "      <td>124-10-4970</td>\n",
       "      <td>P91959</td>\n",
       "      <td>10033</td>\n",
       "      <td>+1-209-595-5257x826</td>\n",
       "      <td>SEspinozad-perry.com</td>\n",
       "    </tr>\n",
       "    <tr>\n",
       "      <th>4</th>\n",
       "      <td>21032</td>\n",
       "      <td>Melissa</td>\n",
       "      <td>Hunter</td>\n",
       "      <td>3346 Anderson Lakes\\nShawville, IL 85803</td>\n",
       "      <td>789-99-6633</td>\n",
       "      <td>P36920</td>\n",
       "      <td>633</td>\n",
       "      <td>44421409</td>\n",
       "      <td>Melissazkimberly@wiley.com</td>\n",
       "    </tr>\n",
       "  </tbody>\n",
       "</table>\n",
       "</div>"
      ],
      "text/plain": [
       "   Person_id First Name Last Name  \\\n",
       "0      16436    Matthew   Johnson   \n",
       "1      17865  Elizabeth   Frazier   \n",
       "2      33748       Lori    Vargas   \n",
       "3      33594      Sarah  Espinoza   \n",
       "4      21032    Melissa    Hunter   \n",
       "\n",
       "                                             Address          SSN Employee_Id  \\\n",
       "0                           USS Walker\\nFPO AA 91930  691-17-3378      P37429   \n",
       "1  8283 Kimberly Streets Apt. 001\\nEast Edward, D...  675-40-3501      P90953   \n",
       "2             235 Devin Ridges\\nCraneshire, OR 16065  821-81-4954      P38017   \n",
       "3           78762 Eileen Camp\\nNelsonhaven, ID 36069  124-10-4970      P91959   \n",
       "4           3346 Anderson Lakes\\nShawville, IL 85803  789-99-6633      P36920   \n",
       "\n",
       "   Building_number         Phone_Number                       Email  \n",
       "0              961           3298685475            Matthewgmail.com  \n",
       "1              590    524-601-7567x7090          EFrazier93erez.com  \n",
       "2              198   316-095-9037x69942      Loriegregory@smith.com  \n",
       "3            10033  +1-209-595-5257x826        SEspinozad-perry.com  \n",
       "4              633             44421409  Melissazkimberly@wiley.com  "
      ]
     },
     "execution_count": 10,
     "metadata": {},
     "output_type": "execute_result"
    }
   ],
   "source": [
    "#len(Employee_data[\"Person_id\"].unique().tolist())\n",
    "Secret_data = pd.concat([Person_id, Employee_data], axis=1, sort=False)\n",
    "Secret_data_final = Secret_data[[\"Person_id\", \"First Name\", \"Last Name\", \"Address\", \"SSN\", \"Employee_Id\", \"Building_number\",\n",
    "                        \"Phone_Number\", \"Email\"]]\n",
    "Secret_data_final.head()"
   ]
  },
  {
   "cell_type": "code",
   "execution_count": 11,
   "metadata": {},
   "outputs": [
    {
     "data": {
      "text/html": [
       "<div>\n",
       "<style scoped>\n",
       "    .dataframe tbody tr th:only-of-type {\n",
       "        vertical-align: middle;\n",
       "    }\n",
       "\n",
       "    .dataframe tbody tr th {\n",
       "        vertical-align: top;\n",
       "    }\n",
       "\n",
       "    .dataframe thead th {\n",
       "        text-align: right;\n",
       "    }\n",
       "</style>\n",
       "<table border=\"1\" class=\"dataframe\">\n",
       "  <thead>\n",
       "    <tr style=\"text-align: right;\">\n",
       "      <th></th>\n",
       "      <th>Person_id</th>\n",
       "      <th>Date of Birth</th>\n",
       "      <th>Job</th>\n",
       "      <th>Salary</th>\n",
       "      <th>Office_Location</th>\n",
       "    </tr>\n",
       "  </thead>\n",
       "  <tbody>\n",
       "    <tr>\n",
       "      <th>20129</th>\n",
       "      <td>40244</td>\n",
       "      <td>2/3/1962</td>\n",
       "      <td>Programmer, applications Sr.Manager</td>\n",
       "      <td>119699</td>\n",
       "      <td>Nicholasberg</td>\n",
       "    </tr>\n",
       "    <tr>\n",
       "      <th>20130</th>\n",
       "      <td>45931</td>\n",
       "      <td>3/3/1980</td>\n",
       "      <td>Historic buildings inspector/conservation offi...</td>\n",
       "      <td>111541</td>\n",
       "      <td>West Charlesburgh</td>\n",
       "    </tr>\n",
       "    <tr>\n",
       "      <th>20131</th>\n",
       "      <td>12835</td>\n",
       "      <td>1/3/1990</td>\n",
       "      <td>Accountant, chartered management Sr.Manager</td>\n",
       "      <td>125266</td>\n",
       "      <td>Stevenside</td>\n",
       "    </tr>\n",
       "    <tr>\n",
       "      <th>20132</th>\n",
       "      <td>28976</td>\n",
       "      <td>11/21/1990</td>\n",
       "      <td>Chief Financial Officer Sr.Manager</td>\n",
       "      <td>122120</td>\n",
       "      <td>Gregoryland</td>\n",
       "    </tr>\n",
       "    <tr>\n",
       "      <th>20133</th>\n",
       "      <td>48191</td>\n",
       "      <td>12/14/1961</td>\n",
       "      <td>Arts development officer Sr.Manager</td>\n",
       "      <td>109241</td>\n",
       "      <td>East Elizabeth</td>\n",
       "    </tr>\n",
       "  </tbody>\n",
       "</table>\n",
       "</div>"
      ],
      "text/plain": [
       "       Person_id Date of Birth  \\\n",
       "20129      40244      2/3/1962   \n",
       "20130      45931      3/3/1980   \n",
       "20131      12835      1/3/1990   \n",
       "20132      28976    11/21/1990   \n",
       "20133      48191    12/14/1961   \n",
       "\n",
       "                                                     Job  Salary  \\\n",
       "20129                Programmer, applications Sr.Manager  119699   \n",
       "20130  Historic buildings inspector/conservation offi...  111541   \n",
       "20131        Accountant, chartered management Sr.Manager  125266   \n",
       "20132                 Chief Financial Officer Sr.Manager  122120   \n",
       "20133                Arts development officer Sr.Manager  109241   \n",
       "\n",
       "         Office_Location  \n",
       "20129       Nicholasberg  \n",
       "20130  West Charlesburgh  \n",
       "20131         Stevenside  \n",
       "20132        Gregoryland  \n",
       "20133     East Elizabeth  "
      ]
     },
     "execution_count": 11,
     "metadata": {},
     "output_type": "execute_result"
    }
   ],
   "source": [
    "Anonymized_data = Secret_data[[\"Person_id\", \"Date of Birth\", \"Job\", \"Salary\", \"Office_Location\"]]\n",
    "Anonymized_data.tail()"
   ]
  },
  {
   "cell_type": "markdown",
   "metadata": {},
   "source": [
    "##### Bucketization and Generalization"
   ]
  },
  {
   "cell_type": "markdown",
   "metadata": {},
   "source": [
    "We turned feature the \"Date of Birth\" into an \"Age\" (Bucketization), then modified it into an \"Age range\" (Generalization). Also we modified the \"Salary\" into a \"Salary range\" (Generalization)."
   ]
  },
  {
   "cell_type": "code",
   "execution_count": 12,
   "metadata": {},
   "outputs": [
    {
     "name": "stderr",
     "output_type": "stream",
     "text": [
      "C:\\Users\\otany\\Anaconda3\\lib\\site-packages\\ipykernel_launcher.py:3: SettingWithCopyWarning: \n",
      "A value is trying to be set on a copy of a slice from a DataFrame.\n",
      "Try using .loc[row_indexer,col_indexer] = value instead\n",
      "\n",
      "See the caveats in the documentation: http://pandas.pydata.org/pandas-docs/stable/indexing.html#indexing-view-versus-copy\n",
      "  This is separate from the ipykernel package so we can avoid doing imports until\n",
      "C:\\Users\\otany\\Anaconda3\\lib\\site-packages\\ipykernel_launcher.py:5: SettingWithCopyWarning: \n",
      "A value is trying to be set on a copy of a slice from a DataFrame.\n",
      "Try using .loc[row_indexer,col_indexer] = value instead\n",
      "\n",
      "See the caveats in the documentation: http://pandas.pydata.org/pandas-docs/stable/indexing.html#indexing-view-versus-copy\n",
      "  \"\"\"\n",
      "C:\\Users\\otany\\Anaconda3\\lib\\site-packages\\pandas\\core\\frame.py:3697: SettingWithCopyWarning: \n",
      "A value is trying to be set on a copy of a slice from a DataFrame\n",
      "\n",
      "See the caveats in the documentation: http://pandas.pydata.org/pandas-docs/stable/indexing.html#indexing-view-versus-copy\n",
      "  errors=errors)\n"
     ]
    },
    {
     "data": {
      "text/html": [
       "<div>\n",
       "<style scoped>\n",
       "    .dataframe tbody tr th:only-of-type {\n",
       "        vertical-align: middle;\n",
       "    }\n",
       "\n",
       "    .dataframe tbody tr th {\n",
       "        vertical-align: top;\n",
       "    }\n",
       "\n",
       "    .dataframe thead th {\n",
       "        text-align: right;\n",
       "    }\n",
       "</style>\n",
       "<table border=\"1\" class=\"dataframe\">\n",
       "  <thead>\n",
       "    <tr style=\"text-align: right;\">\n",
       "      <th></th>\n",
       "      <th>Person_id</th>\n",
       "      <th>Age</th>\n",
       "      <th>Job</th>\n",
       "      <th>Office_Location</th>\n",
       "      <th>Salary</th>\n",
       "    </tr>\n",
       "  </thead>\n",
       "  <tbody>\n",
       "    <tr>\n",
       "      <th>0</th>\n",
       "      <td>16436</td>\n",
       "      <td>25</td>\n",
       "      <td>Research scientist (physical sciences)</td>\n",
       "      <td>West Andrew</td>\n",
       "      <td>64822</td>\n",
       "    </tr>\n",
       "    <tr>\n",
       "      <th>1</th>\n",
       "      <td>17865</td>\n",
       "      <td>29</td>\n",
       "      <td>Therapist, speech and language</td>\n",
       "      <td>South Tammymouth</td>\n",
       "      <td>37351</td>\n",
       "    </tr>\n",
       "    <tr>\n",
       "      <th>2</th>\n",
       "      <td>33748</td>\n",
       "      <td>59</td>\n",
       "      <td>Designer, furniture</td>\n",
       "      <td>West Arthur</td>\n",
       "      <td>74379</td>\n",
       "    </tr>\n",
       "    <tr>\n",
       "      <th>3</th>\n",
       "      <td>33594</td>\n",
       "      <td>35</td>\n",
       "      <td>Water engineer</td>\n",
       "      <td>Greerborough</td>\n",
       "      <td>81275</td>\n",
       "    </tr>\n",
       "    <tr>\n",
       "      <th>4</th>\n",
       "      <td>21032</td>\n",
       "      <td>69</td>\n",
       "      <td>Agricultural engineer</td>\n",
       "      <td>Davisburgh</td>\n",
       "      <td>35409</td>\n",
       "    </tr>\n",
       "  </tbody>\n",
       "</table>\n",
       "</div>"
      ],
      "text/plain": [
       "   Person_id  Age                                     Job   Office_Location  \\\n",
       "0      16436   25  Research scientist (physical sciences)       West Andrew   \n",
       "1      17865   29          Therapist, speech and language  South Tammymouth   \n",
       "2      33748   59                     Designer, furniture       West Arthur   \n",
       "3      33594   35                          Water engineer      Greerborough   \n",
       "4      21032   69                   Agricultural engineer        Davisburgh   \n",
       "\n",
       "   Salary  \n",
       "0   64822  \n",
       "1   37351  \n",
       "2   74379  \n",
       "3   81275  \n",
       "4   35409  "
      ]
     },
     "execution_count": 12,
     "metadata": {},
     "output_type": "execute_result"
    }
   ],
   "source": [
    "#Bucketization of Date of Birth by turning it into age\n",
    "\n",
    "Anonymized_data[\"Date of Birth\"] = pd.to_datetime(Anonymized_data[\"Date of Birth\"])\n",
    "\n",
    "Anonymized_data['Age'] = ((datetime.datetime.now() - Anonymized_data['Date of Birth'])/365.25).dt.days\n",
    "#drop DOB column\n",
    "Anonymized_data.drop(['Date of Birth'] , axis = 1, inplace = True) \n",
    "\n",
    "#Rearrange columns \n",
    "Anonymized_data=Anonymized_data[[\"Person_id\", \"Age\", \"Job\", \"Office_Location\", \"Salary\",]]\n",
    "\n",
    "Anonymized_data.head()"
   ]
  },
  {
   "cell_type": "code",
   "execution_count": 13,
   "metadata": {},
   "outputs": [
    {
     "name": "stdout",
     "output_type": "stream",
     "text": [
      "Min Age: 19\n",
      "Max Age: 76\n"
     ]
    }
   ],
   "source": [
    "print(\"Min Age:\", Anonymized_data.Age.min())\n",
    "print(\"Max Age:\", Anonymized_data.Age.max())"
   ]
  },
  {
   "cell_type": "code",
   "execution_count": 16,
   "metadata": {},
   "outputs": [],
   "source": [
    "age_ranges = [\"{0} - {1}\".format(age, age + 9) for age in range(19, 76, 10)]"
   ]
  },
  {
   "cell_type": "code",
   "execution_count": 17,
   "metadata": {},
   "outputs": [
    {
     "data": {
      "text/html": [
       "<div>\n",
       "<style scoped>\n",
       "    .dataframe tbody tr th:only-of-type {\n",
       "        vertical-align: middle;\n",
       "    }\n",
       "\n",
       "    .dataframe tbody tr th {\n",
       "        vertical-align: top;\n",
       "    }\n",
       "\n",
       "    .dataframe thead th {\n",
       "        text-align: right;\n",
       "    }\n",
       "</style>\n",
       "<table border=\"1\" class=\"dataframe\">\n",
       "  <thead>\n",
       "    <tr style=\"text-align: right;\">\n",
       "      <th></th>\n",
       "      <th>Person_id</th>\n",
       "      <th>Age_range</th>\n",
       "      <th>Job</th>\n",
       "      <th>Office_Location</th>\n",
       "      <th>Salary</th>\n",
       "    </tr>\n",
       "  </thead>\n",
       "  <tbody>\n",
       "    <tr>\n",
       "      <th>0</th>\n",
       "      <td>16436</td>\n",
       "      <td>19 - 28</td>\n",
       "      <td>Research scientist (physical sciences)</td>\n",
       "      <td>West Andrew</td>\n",
       "      <td>70649</td>\n",
       "    </tr>\n",
       "    <tr>\n",
       "      <th>1</th>\n",
       "      <td>17865</td>\n",
       "      <td>29 - 38</td>\n",
       "      <td>Therapist, speech and language</td>\n",
       "      <td>South Tammymouth</td>\n",
       "      <td>44980</td>\n",
       "    </tr>\n",
       "    <tr>\n",
       "      <th>2</th>\n",
       "      <td>33748</td>\n",
       "      <td>59 - 68</td>\n",
       "      <td>Designer, furniture</td>\n",
       "      <td>West Arthur</td>\n",
       "      <td>83724</td>\n",
       "    </tr>\n",
       "    <tr>\n",
       "      <th>3</th>\n",
       "      <td>33594</td>\n",
       "      <td>29 - 38</td>\n",
       "      <td>Water engineer</td>\n",
       "      <td>Greerborough</td>\n",
       "      <td>91100</td>\n",
       "    </tr>\n",
       "    <tr>\n",
       "      <th>4</th>\n",
       "      <td>21032</td>\n",
       "      <td>69 - 78</td>\n",
       "      <td>Agricultural engineer</td>\n",
       "      <td>Davisburgh</td>\n",
       "      <td>37780</td>\n",
       "    </tr>\n",
       "  </tbody>\n",
       "</table>\n",
       "</div>"
      ],
      "text/plain": [
       "   Person_id Age_range                                     Job  \\\n",
       "0      16436   19 - 28  Research scientist (physical sciences)   \n",
       "1      17865   29 - 38          Therapist, speech and language   \n",
       "2      33748   59 - 68                     Designer, furniture   \n",
       "3      33594   29 - 38                          Water engineer   \n",
       "4      21032   69 - 78                   Agricultural engineer   \n",
       "\n",
       "    Office_Location  Salary  \n",
       "0       West Andrew   70649  \n",
       "1  South Tammymouth   44980  \n",
       "2       West Arthur   83724  \n",
       "3      Greerborough   91100  \n",
       "4        Davisburgh   37780  "
      ]
     },
     "execution_count": 17,
     "metadata": {},
     "output_type": "execute_result"
    }
   ],
   "source": [
    "count_unique_age_ranges = len(age_ranges)\n",
    "Anonymized_data['Age_range'] = pd.cut(x=Anonymized_data['Age'], bins=count_unique_age_ranges, labels=age_ranges)\n",
    "Anonymized_data=Anonymized_data[[\"Person_id\", \"Age_range\", \"Job\", \"Office_Location\", \"Salary\",]]\n",
    "Anonymized_data.head()"
   ]
  },
  {
   "cell_type": "markdown",
   "metadata": {},
   "source": [
    "##### Perturbation"
   ]
  },
  {
   "cell_type": "markdown",
   "metadata": {},
   "source": [
    "Adding noise hides the original data by changing the values of the data but keeps the patterns of the original data set. We will add random noise to the \"Salary\" feature."
   ]
  },
  {
   "cell_type": "code",
   "execution_count": 18,
   "metadata": {},
   "outputs": [],
   "source": [
    "for i in range(20134):\n",
    "    Anonymized_data.loc[i,'Salary'] = Anonymized_data.loc[i,'Salary'] + random_with_N_digits(4)"
   ]
  },
  {
   "cell_type": "code",
   "execution_count": 19,
   "metadata": {},
   "outputs": [
    {
     "data": {
      "text/html": [
       "<div>\n",
       "<style scoped>\n",
       "    .dataframe tbody tr th:only-of-type {\n",
       "        vertical-align: middle;\n",
       "    }\n",
       "\n",
       "    .dataframe tbody tr th {\n",
       "        vertical-align: top;\n",
       "    }\n",
       "\n",
       "    .dataframe thead th {\n",
       "        text-align: right;\n",
       "    }\n",
       "</style>\n",
       "<table border=\"1\" class=\"dataframe\">\n",
       "  <thead>\n",
       "    <tr style=\"text-align: right;\">\n",
       "      <th></th>\n",
       "      <th>Person_id</th>\n",
       "      <th>Age_range</th>\n",
       "      <th>Job</th>\n",
       "      <th>Office_Location</th>\n",
       "      <th>Salary</th>\n",
       "    </tr>\n",
       "  </thead>\n",
       "  <tbody>\n",
       "    <tr>\n",
       "      <th>0</th>\n",
       "      <td>16436</td>\n",
       "      <td>19 - 28</td>\n",
       "      <td>Research scientist (physical sciences)</td>\n",
       "      <td>West Andrew</td>\n",
       "      <td>76237</td>\n",
       "    </tr>\n",
       "    <tr>\n",
       "      <th>1</th>\n",
       "      <td>17865</td>\n",
       "      <td>29 - 38</td>\n",
       "      <td>Therapist, speech and language</td>\n",
       "      <td>South Tammymouth</td>\n",
       "      <td>50044</td>\n",
       "    </tr>\n",
       "    <tr>\n",
       "      <th>2</th>\n",
       "      <td>33748</td>\n",
       "      <td>59 - 68</td>\n",
       "      <td>Designer, furniture</td>\n",
       "      <td>West Arthur</td>\n",
       "      <td>92353</td>\n",
       "    </tr>\n",
       "    <tr>\n",
       "      <th>3</th>\n",
       "      <td>33594</td>\n",
       "      <td>29 - 38</td>\n",
       "      <td>Water engineer</td>\n",
       "      <td>Greerborough</td>\n",
       "      <td>95881</td>\n",
       "    </tr>\n",
       "    <tr>\n",
       "      <th>4</th>\n",
       "      <td>21032</td>\n",
       "      <td>69 - 78</td>\n",
       "      <td>Agricultural engineer</td>\n",
       "      <td>Davisburgh</td>\n",
       "      <td>43997</td>\n",
       "    </tr>\n",
       "  </tbody>\n",
       "</table>\n",
       "</div>"
      ],
      "text/plain": [
       "   Person_id Age_range                                     Job  \\\n",
       "0      16436   19 - 28  Research scientist (physical sciences)   \n",
       "1      17865   29 - 38          Therapist, speech and language   \n",
       "2      33748   59 - 68                     Designer, furniture   \n",
       "3      33594   29 - 38                          Water engineer   \n",
       "4      21032   69 - 78                   Agricultural engineer   \n",
       "\n",
       "    Office_Location  Salary  \n",
       "0       West Andrew   76237  \n",
       "1  South Tammymouth   50044  \n",
       "2       West Arthur   92353  \n",
       "3      Greerborough   95881  \n",
       "4        Davisburgh   43997  "
      ]
     },
     "execution_count": 19,
     "metadata": {},
     "output_type": "execute_result"
    }
   ],
   "source": [
    "Anonymized_data_final = Anonymized_data\n",
    "Anonymized_data_final.head()"
   ]
  },
  {
   "cell_type": "markdown",
   "metadata": {},
   "source": [
    "### Comparison of row and anonymized data sets"
   ]
  },
  {
   "cell_type": "code",
   "execution_count": 20,
   "metadata": {},
   "outputs": [
    {
     "data": {
      "image/png": "[encoded data removed]",
      "text/plain": [
       "<matplotlib.figure.Figure at 0x2402b8fae10>"
      ]
     },
     "metadata": {
      "needs_background": "light"
     },
     "output_type": "display_data"
    }
   ],
   "source": [
    "import random\n",
    "import numpy\n",
    "from matplotlib import pyplot\n",
    "\n",
    "x = Employee_data.Salary\n",
    "y = Anonymized_data_final.Salary\n",
    "\n",
    "\n",
    "pyplot.hist(x,  alpha=0.5, label='Salary')\n",
    "pyplot.hist(y,  alpha=0.5, label='Salary with noise')\n",
    "pyplot.legend(loc='upper right')\n",
    "pyplot.show()"
   ]
  },
  {
   "cell_type": "markdown",
   "metadata": {},
   "source": [
    "On the plots of Salary and Salary with noise we see pretty much the same distribution. We compared Salaries before adding noise and after, using Paired T-Test, sinse they are not independent one from another."
   ]
  },
  {
   "cell_type": "code",
   "execution_count": 21,
   "metadata": {},
   "outputs": [
    {
     "data": {
      "text/plain": [
       "Ttest_relResult(statistic=-424.1049358941184, pvalue=0.0)"
      ]
     },
     "execution_count": 21,
     "metadata": {},
     "output_type": "execute_result"
    }
   ],
   "source": [
    "# Perform the Paired T-Test\n",
    "stats.ttest_rel(x, y)"
   ]
  },
  {
   "cell_type": "markdown",
   "metadata": {},
   "source": [
    "Our t-statistic value is -424.10, and along with our degrees of freedom (20133) this can be used to calculate a p-value.\n",
    "The p-value is 0.0, which is below than the standard thresholds of 0.05 or 0.01, so we reject the null hypothesis and we can say there is a statistically significant difference in Salaries before and after adding noise with 99% confidance. We saved categorical attributes \"Job\" and \"Office_Location\" in original shape."
   ]
  },
  {
   "cell_type": "code",
   "execution_count": null,
   "metadata": {},
   "outputs": [],
   "source": [
    "# save a local file\n",
    "gendf.to_csv(r'C:\\Users\\shayden\\Documents\\SMU\\Data and Network Security\\MSDS-7349-Sec403-\\Class_Project\\Gen_Employee_data.csv')"
   ]
  }
 ],
 "metadata": {
  "kernelspec": {
   "display_name": "Python 3",
   "language": "python",
   "name": "python3"
  },
  "language_info": {
   "codemirror_mode": {
    "name": "ipython",
    "version": 3
   },
   "file_extension": ".py",
   "mimetype": "text/x-python",
   "name": "python",
   "nbconvert_exporter": "python",
   "pygments_lexer": "ipython3",
   "version": "3.6.3"
  }
 },
 "nbformat": 4,
 "nbformat_minor": 2
}
