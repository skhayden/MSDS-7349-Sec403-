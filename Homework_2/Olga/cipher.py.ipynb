{
 "cells": [
  {
   "cell_type": "markdown",
   "metadata": {},
   "source": [
    "# Intro Code"
   ]
  },
  {
   "cell_type": "code",
   "execution_count": 1,
   "metadata": {},
   "outputs": [
    {
     "name": "stdout",
     "output_type": "stream",
     "text": [
      "(65, 'A')\n"
     ]
    }
   ],
   "source": [
    "letter = 'A'\n",
    "#converts a letter to ascii code \n",
    "asciiCode = ord(letter)\n",
    "#converts ascii code to a letter \n",
    "letterRes = chr(asciiCode)\n",
    "print (asciiCode, letterRes)"
   ]
  },
  {
   "cell_type": "markdown",
   "metadata": {},
   "source": [
    "# Question 1"
   ]
  },
  {
   "cell_type": "markdown",
   "metadata": {},
   "source": [
    "### Part 1"
   ]
  },
  {
   "cell_type": "code",
   "execution_count": 56,
   "metadata": {},
   "outputs": [
    {
     "name": "stdout",
     "output_type": "stream",
     "text": [
      "Enter sentence to encrypt: Abc\n",
      "Enter shift value: 2\n",
      "Abc\n"
     ]
    }
   ],
   "source": [
    "# Encoded phrase is equal to the phrase in the output of this code\n",
    "phrase = input(\"Enter sentence to encrypt: \")\n",
    "shift = int(input(\"Enter shift value: \"))\n",
    "encodedPhrase = \"\"\n",
    "for c in phrase:\n",
    "    encodedPhrase = encodedPhrase + c\n",
    "print (encodedPhrase)   \n"
   ]
  },
  {
   "cell_type": "markdown",
   "metadata": {},
   "source": [
    "### Part 2"
   ]
  },
  {
   "cell_type": "code",
   "execution_count": 19,
   "metadata": {},
   "outputs": [
    {
     "name": "stdout",
     "output_type": "stream",
     "text": [
      "Enter sentence to encrypt: Abc! Abc!\n",
      "Enter shift value: 2\n",
      "Xxx! Xxx!\n"
     ]
    }
   ],
   "source": [
    "# get text for exercise \n",
    "phrase = input(\"Enter sentence to encrypt: \")\n",
    "shift = int(input(\"Enter shift value: \"))\n",
    "encodedPhrase = \"\"\n",
    "for c in phrase:\n",
    "    \n",
    "    if c.isalpha() == False:\n",
    "        c = c\n",
    "    elif c.isupper() == True: \n",
    "        c = \"X\"\n",
    "    else:\n",
    "        c = \"x\"  \n",
    "        \n",
    "    encodedPhrase = encodedPhrase + c\n",
    "\n",
    "print (encodedPhrase)"
   ]
  },
  {
   "cell_type": "markdown",
   "metadata": {},
   "source": [
    "### Part 3"
   ]
  },
  {
   "cell_type": "code",
   "execution_count": 48,
   "metadata": {},
   "outputs": [
    {
     "name": "stdout",
     "output_type": "stream",
     "text": [
      "Enter sentence to encrypt: What a nice day today!\n",
      "Enter shift value: 4\n",
      "Alex e rmgi hec xshec!\n"
     ]
    }
   ],
   "source": [
    "## get text for exercise \n",
    "phrase = input(\"Enter sentence to encrypt: \")\n",
    "shift = int(input(\"Enter shift value: \"))\n",
    "encodedPhrase = \"\"\n",
    "\n",
    "for c in phrase:# loop through each char in the string\n",
    "    \n",
    "    if c.isalpha() == False:# check to see if character is a letter. if not, do nothing\n",
    "        c = c\n",
    "        \n",
    "   #Upper case logic  \n",
    "    elif c.isupper() == True: #check if the character is uppercase \n",
    "        asciiCode = ord(c)+ shift\n",
    "        \n",
    "        if asciiCode > 90: # if the char will loop past z, - off 26 to cycle through the alphabet again\n",
    "            asciiCode= asciiCode - 26   \n",
    "        letterRes = chr(asciiCode)\n",
    "        c = letterRes\n",
    "\n",
    "    #Lower case  Logic\n",
    "\n",
    "    else:\n",
    "        asciiCode = ord(c)+ shift\n",
    "        \n",
    "        if asciiCode > 122:# if the char will loop past z, - off 26 to cycle through the alphabet again\n",
    "            asciiCode= asciiCode - 26   \n",
    "        letterRes = chr(asciiCode)\n",
    "        c = letterRes\n",
    "        \n",
    "        \n",
    "    encodedPhrase = encodedPhrase + c\n",
    "\n",
    "print (encodedPhrase)"
   ]
  },
  {
   "cell_type": "markdown",
   "metadata": {},
   "source": [
    "# Question 2"
   ]
  },
  {
   "cell_type": "code",
   "execution_count": 114,
   "metadata": {},
   "outputs": [
    {
     "name": "stdout",
     "output_type": "stream",
     "text": [
      "Enter sentence to decrypt: Alex e rmgi hec xshec!\n",
      "Key #1: Zkdw d qlfh gdb wrgdb!\n",
      "Key #2: Yjcv c pkeg fca vqfca!\n",
      "Key #3: Xibu b ojdf ebz upebz!\n",
      "Key #4: What a nice day today!\n",
      "Key #5: Vgzs z mhbd czx snczx!\n",
      "Key #6: Ufyr y lgac byw rmbyw!\n",
      "Key #7: Texq x kfzb axv qlaxv!\n",
      "Key #8: Sdwp w jeya zwu pkzwu!\n",
      "Key #9: Rcvo v idxz yvt ojyvt!\n",
      "Key #10: Qbun u hcwy xus nixus!\n",
      "Key #11: Patm t gbvx wtr mhwtr!\n",
      "Key #12: Ozsl s fauw vsq lgvsq!\n",
      "Key #13: Nyrk r eztv urp kfurp!\n",
      "Key #14: Mxqj q dysu tqo jetqo!\n",
      "Key #15: Lwpi p cxrt spn idspn!\n",
      "Key #16: Kvoh o bwqs rom hcrom!\n",
      "Key #17: Jung n avpr qnl gbqnl!\n",
      "Key #18: Itmf m zuoq pmk fapmk!\n",
      "Key #19: Hsle l ytnp olj ezolj!\n",
      "Key #20: Grkd k xsmo nki dynki!\n",
      "Key #21: Fqjc j wrln mjh cxmjh!\n",
      "Key #22: Epib i vqkm lig bwlig!\n",
      "Key #23: Doha h upjl khf avkhf!\n",
      "Key #24: Cngz g toik jge zujge!\n",
      "Key #25: Bmfy f snhj ifd ytifd!\n"
     ]
    }
   ],
   "source": [
    "# was inspired by http://inventwithpython.com/hacking (BSD Licensed).\n",
    "phrase = input(\"Enter sentence to decrypt: \")\n",
    "\n",
    "# loop through every possible key\n",
    "for key in range(1,26):\n",
    "    # It is important to set translated to the blank string so that the\n",
    "    # previous iteration's value for translated is cleared.\n",
    "    translated = ''\n",
    "    # The rest of the program is the same as the original Caesar program:\n",
    "    # run the encryption/decryption code on each symbol in the message\n",
    "    for c in phrase:\n",
    "        if c.isalpha() == False:# check to see if character is a letter. if not, do nothing\n",
    "            c = c\n",
    "        elif c.isupper() == True: #check if the character is uppercase \n",
    "            asciiCode = ord(c) - key\n",
    "            if asciiCode < 65: # if the char will loop past z, - off 26 to cycle through the alphabet again\n",
    "                asciiCode= asciiCode + 26   \n",
    "            letterRes = chr(asciiCode)\n",
    "            c = letterRes\n",
    "        \n",
    "        else:\n",
    "            asciiCode = ord(c) - key\n",
    "            if asciiCode < 97:# if the char will loop past z, - off 26 to cycle through the alphabet again\n",
    "                asciiCode= asciiCode + 26   \n",
    "            letterRes = chr(asciiCode)\n",
    "            c = letterRes\n",
    "        \n",
    "        translated = translated + c\n",
    "            \n",
    "\n",
    "    # display the current key being tested, along with its decryption\n",
    "    print('Key #%s: %s' % (key, translated))"
   ]
  },
  {
   "cell_type": "markdown",
   "metadata": {},
   "source": [
    "# Question 3"
   ]
  },
  {
   "cell_type": "code",
   "execution_count": 113,
   "metadata": {},
   "outputs": [],
   "source": [
    "from PIL import Image\n",
    "from Crypto.Cipher import AES\n",
    "from Crypto.Util import Counter\n",
    " \n",
    "filename = \"butterfly.jpg\"\n",
    "filename_out = \"butterfly_CBC_encrypted\"\n",
    "format = \"BMP\"\n",
    "key = \"aaaabbbbccccdddd\"\n",
    " \n",
    "# AES requires that plaintexts be a multiple of 16, so we have to pad the data\n",
    "def pad(data):\n",
    "    return data + b\"\\x00\"*(16-len(data)%16) \n",
    " \n",
    "# Maps the RGB \n",
    "def convert_to_RGB(data):\n",
    "    r, g, b = tuple(map(lambda d: [data[i] for i in range(0,len(data)) if i % 3 == d], [0, 1, 2]))\n",
    "    pixels = tuple(zip(r,g,b))\n",
    "    return pixels\n",
    "    \n",
    "def process_image(filename):\n",
    "    # Opens image and converts it to RGB format for PIL\n",
    "    im = Image.open(filename)\n",
    "    data = im.convert(\"RGB\").tobytes() \n",
    " \n",
    "    # Since we will pad the data to satisfy AES's multiple-of-16 requirement, we will store the original data length and\n",
    "    # \"unpad\" it later.\n",
    "    original = len(data) \n",
    " \n",
    "    # Encrypts using desired AES mode (we'll set it to ECB by default)\n",
    "    new = convert_to_RGB(aes_cbc_encrypt(key, pad(data))[:original]) \n",
    "    \n",
    "    # Create a new PIL Image object and save the old image data into the new image.\n",
    "    im2 = Image.new(im.mode, im.size)\n",
    "    im2.putdata(new)\n",
    "    \n",
    "    #Save image\n",
    "    im2.save(filename_out+\".\"+format, format)\n",
    " \n",
    "# CBC\n",
    "def aes_cbc_encrypt(key, data, mode=AES.MODE_CBC):\n",
    "    IV = \"A\"*16  #We'll manually set the initialization vector to simplify things\n",
    "    aes = AES.new(key, mode, IV)\n",
    "    new_data = aes.encrypt(data)\n",
    "    return new_data\n",
    "# ECB\n",
    "def aes_ecb_encrypt(key, data, mode=AES.MODE_ECB):\n",
    "    aes = AES.new(key, mode)\n",
    "    new_data = aes.encrypt(data)\n",
    "    return new_data\n",
    "# CTR\n",
    "def aes_ctr_encrypt(key, data, mode=AES.MODE_CTR):\n",
    "    ctr = Counter.new(128)\n",
    "    aes = AES.new(key, mode, counter=ctr)\n",
    "    new_data = aes.encrypt(data)\n",
    "    return new_data\n",
    " \n",
    "process_image(filename)\n"
   ]
  }
 ],
 "metadata": {
  "kernelspec": {
   "display_name": "Python 3",
   "language": "python",
   "name": "python3"
  },
  "language_info": {
   "codemirror_mode": {
    "name": "ipython",
    "version": 3
   },
   "file_extension": ".py",
   "mimetype": "text/x-python",
   "name": "python",
   "nbconvert_exporter": "python",
   "pygments_lexer": "ipython3",
   "version": "3.6.3"
  }
 },
 "nbformat": 4,
 "nbformat_minor": 2
}
