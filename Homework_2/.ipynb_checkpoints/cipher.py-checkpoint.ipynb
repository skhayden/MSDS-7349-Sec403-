{
 "cells": [
  {
   "cell_type": "markdown",
   "metadata": {},
   "source": [
    "# Intro Code"
   ]
  },
  {
   "cell_type": "code",
   "execution_count": null,
   "metadata": {},
   "outputs": [],
   "source": [
    "letter = 'a'\n",
    "#converts a letter to ascii code \n",
    "asciiCode = ord(letter)\n",
    "#converts ascii code to a letter \n",
    "letterRes = chr(asciiCode)\n",
    "print (asciiCode, letterRes)"
   ]
  },
  {
   "cell_type": "markdown",
   "metadata": {},
   "source": [
    "# Question 1"
   ]
  },
  {
   "cell_type": "markdown",
   "metadata": {},
   "source": [
    "### Part 1"
   ]
  },
  {
   "cell_type": "code",
   "execution_count": null,
   "metadata": {},
   "outputs": [],
   "source": [
    "# get text for exercise \n",
    "Text_to_Encrypt= input(\"what string you would like to encrypt: \")\n",
    "Shift_Value = int(input(\"what shift value would you like to use: \"))\n",
    "a=0\n",
    "encodedPhrase = \"\"\n",
    "for c in Text_to_Encrypt:\n",
    "    encodedPhrase = encodedPhrase + c\n",
    " \n",
    "    print(encodedPhrase)\n",
    "    \n",
    "\n",
    "\n"
   ]
  },
  {
   "cell_type": "markdown",
   "metadata": {},
   "source": [
    "### Part 2"
   ]
  },
  {
   "cell_type": "code",
   "execution_count": null,
   "metadata": {},
   "outputs": [],
   "source": [
    "# get text for exercise \n",
    "Text_to_Encrypt= input(\"what string you would like to encrypt: \")\n",
    "Shift_Value = int(input(\"what shift value would you like to use: \"))\n",
    "\n",
    "encodedPhrase = \"\"\n",
    "\n",
    "for c in Text_to_Encrypt:\n",
    "    \n",
    "    if c.isalpha() == False:\n",
    "        c = c\n",
    "    elif c.isupper() == True: \n",
    "        c = \"X\"\n",
    "    else:\n",
    "        c = \"x\"  \n",
    "        \n",
    "    encodedPhrase = encodedPhrase + c\n",
    "\n",
    "print (encodedPhrase)"
   ]
  },
  {
   "cell_type": "markdown",
   "metadata": {},
   "source": [
    "### Part 3"
   ]
  },
  {
   "cell_type": "code",
   "execution_count": 66,
   "metadata": {},
   "outputs": [
    {
     "name": "stdout",
     "output_type": "stream",
     "text": [
      "what string you would like to encrypt: This list has can\n",
      "what shift value would you like to use: 4\n",
      "Xlmw pmwx lew ger\n"
     ]
    }
   ],
   "source": [
    "## get text for exercise \n",
    "Text_to_Encrypt= input(\"what string you would like to encrypt: \")\n",
    "Shift_Value = int(input(\"what shift value would you like to use: \"))\n",
    "\n",
    "encodedPhrase = \"\"\n",
    "\n",
    "for c in Text_to_Encrypt:# loop through each char in the string\n",
    "    \n",
    "    if c.isalpha() == False:# check to see if character is a letter. if not, do nothing\n",
    "        c = c\n",
    "        \n",
    "   #Upper case logic  \n",
    "\n",
    "\n",
    "    elif c.isupper() == True: #check if the character is uppercase \n",
    "        asciiCode = (ord(c))+ Shift_Value\n",
    "        \n",
    "        if asciiCode > 90: # if the char will loop past z, - off 26 to cycle through the alphabet again\n",
    "            asciiCode= asciiCode - 26   \n",
    "        letterRes = chr(asciiCode)\n",
    "        c = letterRes\n",
    "\n",
    "    #Lower case  Logic\n",
    "\n",
    "    else:\n",
    "        asciiCode = ord(c)+ Shift_Value\n",
    "        \n",
    "        if asciiCode > 122:# if the char will loop past z, - off 26 to cycle through the alphabet again\n",
    "            asciiCode= asciiCode - 26   \n",
    "        letterRes = chr(asciiCode)\n",
    "        c = letterRes\n",
    "        \n",
    "        \n",
    "    encodedPhrase = encodedPhrase + c\n",
    "\n",
    "print (encodedPhrase)"
   ]
  },
  {
   "cell_type": "markdown",
   "metadata": {},
   "source": [
    "# Question 2"
   ]
  },
  {
   "cell_type": "code",
   "execution_count": 67,
   "metadata": {},
   "outputs": [
    {
     "name": "stdout",
     "output_type": "stream",
     "text": [
      "XLMW PMWX LEW GER\n"
     ]
    },
    {
     "data": {
      "image/png": "[encoded data removed]",
      "text/plain": [
       "<Figure size 432x288 with 1 Axes>"
      ]
     },
     "metadata": {
      "needs_background": "light"
     },
     "output_type": "display_data"
    }
   ],
   "source": [
    "# import pandas as pd\n",
    "import pandas as pd\n",
    "import matplotlib.pylab as plt\n",
    "\n",
    "#letters to bucket frequency by\n",
    "Letter_for_frequency = 'ABCDEFGHIJKLMNOPQRSTUVWXYZ'\n",
    "\n",
    "#initialize dictionary with zero\n",
    "letter_frquency= {}\n",
    "for letter in Letter_for_frequency:\n",
    "    letter_frquency[letter] = 0\n",
    "\n",
    "cipher_text = encodedPhrase.upper() \n",
    "\n",
    "print(cipher_text)   \n",
    "for letter in cipher_text:\n",
    "    if letter.upper() in Letter_for_frequency:\n",
    "        letter_frquency[letter] += 1\n",
    "        #print(letter)\n",
    "\n",
    "\n",
    "\n",
    "\n",
    "centers = range(len(Letter_for_frequency))\n",
    "plt.bar(centers,letter_frquency.values(), align='center',tick_label=letter_frquency.keys())\n",
    "plt.xlim([0,len(Letter_for_frequency)-1])\n",
    "plt.show()\n",
    "\n",
    "    "
   ]
  },
  {
   "cell_type": "code",
   "execution_count": 15,
   "metadata": {},
   "outputs": [],
   "source": [
    "\n",
    "       \n"
   ]
  },
  {
   "cell_type": "code",
   "execution_count": 16,
   "metadata": {},
   "outputs": [
    {
     "data": {
      "text/plain": [
       "13"
      ]
     },
     "execution_count": 16,
     "metadata": {},
     "output_type": "execute_result"
    }
   ],
   "source": [
    "\n",
    "       \n",
    "\n",
    "key "
   ]
  },
  {
   "cell_type": "code",
   "execution_count": 6,
   "metadata": {},
   "outputs": [
    {
     "data": {
      "text/plain": [
       "'X'"
      ]
     },
     "execution_count": 6,
     "metadata": {},
     "output_type": "execute_result"
    }
   ],
   "source": [
    "k"
   ]
  },
  {
   "cell_type": "code",
   "execution_count": 68,
   "metadata": {},
   "outputs": [],
   "source": [
    "#Create function \n",
    "def decipher(Text_to_decipher, key):\n",
    "    De_ciph=\"\"\n",
    "\n",
    "    for c in Text_to_decipher:# loop through each char in the string\n",
    "    \n",
    "        if c.isalpha() == False:# check to see if character is a letter. if not, do nothing\n",
    "            c = c\n",
    "        \n",
    "       #Upper case logic  \n",
    "\n",
    "\n",
    "        elif c.isupper() == True: #check if the character is uppercase \n",
    "            asciiCode = (ord(c)) - key\n",
    "        \n",
    "            if asciiCode < 65: # if the char will loop past z, - off 26 to cycle through the alphabet again\n",
    "                asciiCode= asciiCode + 26\n",
    "            letterRes = chr(asciiCode)\n",
    "            c = letterRes\n",
    "\n",
    "        #Lower case  Logic\n",
    "\n",
    "        else:\n",
    "            asciiCode = ord(c) - key\n",
    "        \n",
    "            if asciiCode < 97:# if the char will loop past z, - off 26 to cycle through the alphabet again\n",
    "                asciiCode= asciiCode + 26\n",
    "            letterRes = chr(asciiCode)\n",
    "            c = letterRes\n",
    "        \n",
    "        \n",
    "        De_ciph = De_ciph + c\n",
    "        \n",
    "    return De_ciph;\n",
    "\n",
    "\n",
    "\n"
   ]
  },
  {
   "cell_type": "code",
   "execution_count": 43,
   "metadata": {},
   "outputs": [
    {
     "data": {
      "text/plain": [
       "0"
      ]
     },
     "execution_count": 43,
     "metadata": {},
     "output_type": "execute_result"
    }
   ],
   "source": []
  },
  {
   "cell_type": "code",
   "execution_count": 72,
   "metadata": {},
   "outputs": [
    {
     "name": "stdout",
     "output_type": "stream",
     "text": [
      "6\n",
      "30\n",
      "This list has can\n"
     ]
    }
   ],
   "source": [
    "import operator\n",
    "\n",
    "#sort list by frequency \n",
    "val = list(letter_frquency.values()) \n",
    "val.sort() \n",
    "\n",
    "\n",
    "#list of words to break loop\n",
    "Break_word_list= [\"THE\",\"AND\",\"FOR\",\"ARE\",\"BUT\",\"NOT\",\"YOU\",\"ALL\",\"ANY\",\"CAN\",\"HAD\",\"HER\",\"WAS\",\"ONE\",\"OUR\",\"OUT\",\"DAY\",\"GET\",\"HAS\",\"HIM\",\"HIS\",\"HOW\",\"MAN\",\"NEW\",\"NOW\",\"OLD\",\"SEE\",\"TWO\",\"WAY\",\"WHO\",\"BOY\",\"DID\",\"ITS\",\"LET\",\"PUT\",\"SAY\",\"SHE\",\"TOO\",\"USE\"]\n",
    "\n",
    "#loop through the 26 keys\n",
    "for i in range(1,len(letter_frquency)):\n",
    "    res = val[len(val)-i] \n",
    "\n",
    "    #find key by using the most frequent letter and assumes it is e\n",
    "    for k in letter_frquency:\n",
    "        if letter_frquency[k]== res:\n",
    "            key = ord('e') - ord(k)\n",
    "            break\n",
    "\n",
    "    Text_to_check = decipher(encodedPhrase,key)\n",
    "    if any(word in Text_to_check.upper() for word in Break_word_list):\n",
    "        print(i)\n",
    "        print(key)\n",
    "        print(Text_to_check)\n",
    "        break"
   ]
  },
  {
   "cell_type": "code",
   "execution_count": null,
   "metadata": {},
   "outputs": [],
   "source": []
  },
  {
   "cell_type": "code",
   "execution_count": null,
   "metadata": {},
   "outputs": [],
   "source": []
  }
 ],
 "metadata": {
  "kernelspec": {
   "display_name": "Python 3",
   "language": "python",
   "name": "python3"
  },
  "language_info": {
   "codemirror_mode": {
    "name": "ipython",
    "version": 3
   },
   "file_extension": ".py",
   "mimetype": "text/x-python",
   "name": "python",
   "nbconvert_exporter": "python",
   "pygments_lexer": "ipython3",
   "version": "3.7.0"
  }
 },
 "nbformat": 4,
 "nbformat_minor": 2
}
