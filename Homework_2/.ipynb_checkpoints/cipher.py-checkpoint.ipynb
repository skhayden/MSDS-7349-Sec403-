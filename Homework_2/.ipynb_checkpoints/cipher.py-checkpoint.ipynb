{
 "cells": [
  {
   "cell_type": "markdown",
   "metadata": {},
   "source": [
    "# Intro Code"
   ]
  },
  {
   "cell_type": "code",
   "execution_count": null,
   "metadata": {},
   "outputs": [],
   "source": [
    "letter = 'a'\n",
    "#converts a letter to ascii code \n",
    "asciiCode = ord(letter)\n",
    "#converts ascii code to a letter \n",
    "letterRes = chr(asciiCode)\n",
    "print (asciiCode, letterRes)"
   ]
  },
  {
   "cell_type": "markdown",
   "metadata": {},
   "source": [
    "# Question 1"
   ]
  },
  {
   "cell_type": "markdown",
   "metadata": {},
   "source": [
    "### Part 1"
   ]
  },
  {
   "cell_type": "code",
   "execution_count": 4,
   "metadata": {},
   "outputs": [
    {
     "name": "stdout",
     "output_type": "stream",
     "text": [
      "what string you would like to encrypt: wer\n",
      "what shift value would you like to use: 4\n",
      "w\n",
      "we\n",
      "wer\n"
     ]
    }
   ],
   "source": [
    "# get text for exercise \n",
    "Text_to_Encrypt= input(\"what string you would like to encrypt: \")\n",
    "Shift_Value = int(input(\"what shift value would you like to use: \"))\n",
    "a=0\n",
    "encodedPhrase = \"\"\n",
    "for c in Text_to_Encrypt:\n",
    "    encodedPhrase = encodedPhrase + c\n",
    " \n",
    "    print(encodedPhrase)\n",
    "    \n",
    "\n",
    "\n"
   ]
  },
  {
   "cell_type": "markdown",
   "metadata": {},
   "source": [
    "### Part 2"
   ]
  },
  {
   "cell_type": "code",
   "execution_count": 5,
   "metadata": {},
   "outputs": [
    {
     "name": "stdout",
     "output_type": "stream",
     "text": [
      "what string you would like to encrypt: sfsa\n",
      "what shift value would you like to use: 4\n",
      "xxxx\n"
     ]
    }
   ],
   "source": [
    "# get text for exercise \n",
    "Text_to_Encrypt= input(\"what string you would like to encrypt: \")\n",
    "Shift_Value = int(input(\"what shift value would you like to use: \"))\n",
    "\n",
    "encodedPhrase = \"\"\n",
    "\n",
    "for c in Text_to_Encrypt:\n",
    "    \n",
    "    if c.isalpha() == False:\n",
    "        c = c\n",
    "    elif c.isupper() == True: \n",
    "        c = \"X\"\n",
    "    else:\n",
    "        c = \"x\"  \n",
    "        \n",
    "    encodedPhrase = encodedPhrase + c\n",
    "\n",
    "print (encodedPhrase)"
   ]
  },
  {
   "cell_type": "markdown",
   "metadata": {},
   "source": [
    "### Part 3"
   ]
  },
  {
   "cell_type": "code",
   "execution_count": 210,
   "metadata": {},
   "outputs": [
    {
     "name": "stdout",
     "output_type": "stream",
     "text": [
      "what string you would like to encrypt: I have written a longer post to let people test their decryption algorithm. I have found the short post don’t provide enough data for my algorithm to work better than brute force.  I assumed the letter with the highest frequency was “E”, and took the difference from the highest frequency letter and “E”. It would then check for a couple common words. If it did not find any, it would then assume the second highest frequency letter was “E” and repeat the process all the way through the alphabet.  Since I ran into the issue with short post, I added another layer to the logic. If the text is less than one hundred letter, it would look for the most common two letter words. If it was greater than one hundred letter, it would have to find a couple three and four letter words before it stopped.  \n",
      "what shift value would you like to use: 21\n",
      "D cvqz rmdoozi v gjibzm kjno oj gzo kzjkgz ozno oczdm yzxmtkodji vgbjmdoch. D cvqz ajpiy ocz ncjmo kjno yji’o kmjqdyz zijpbc yvov ajm ht vgbjmdoch oj rjmf wzoozm ocvi wmpoz ajmxz.  D vnnphzy ocz gzoozm rdoc ocz cdbczno amzlpzixt rvn “Z”, viy ojjf ocz ydaazmzixz amjh ocz cdbczno amzlpzixt gzoozm viy “Z”. Do rjpgy oczi xczxf ajm v xjpkgz xjhhji rjmyn. Da do ydy ijo adiy vit, do rjpgy oczi vnnphz ocz nzxjiy cdbczno amzlpzixt gzoozm rvn “Z” viy mzkzvo ocz kmjxznn vgg ocz rvt ocmjpbc ocz vgkcvwzo.  Ndixz D mvi dioj ocz dnnpz rdoc ncjmo kjno, D vyyzy vijoczm gvtzm oj ocz gjbdx. Da ocz ozso dn gznn ocvi jiz cpiymzy gzoozm, do rjpgy gjjf ajm ocz hjno xjhhji orj gzoozm rjmyn. Da do rvn bmzvozm ocvi jiz cpiymzy gzoozm, do rjpgy cvqz oj adiy v xjpkgz ocmzz viy ajpm gzoozm rjmyn wzajmz do nojkkzy.  \n"
     ]
    }
   ],
   "source": [
    "## get text for exercise \n",
    "Text_to_Encrypt= input(\"what string you would like to encrypt: \")\n",
    "Shift_Value = int(input(\"what shift value would you like to use: \"))\n",
    "\n",
    "encodedPhrase = \"\"\n",
    "\n",
    "for c in Text_to_Encrypt:# loop through each char in the string\n",
    "    \n",
    "    if c.isalpha() == False:# check to see if character is a letter. if not, do nothing\n",
    "        c = c\n",
    "        \n",
    "   #Upper case logic  \n",
    "\n",
    "\n",
    "    elif c.isupper() == True: #check if the character is uppercase \n",
    "        asciiCode = (ord(c))+ Shift_Value\n",
    "        \n",
    "        if asciiCode > 90: # if the char will loop past z, - off 26 to cycle through the alphabet again\n",
    "            asciiCode= asciiCode - 26   \n",
    "        letterRes = chr(asciiCode)\n",
    "        c = letterRes\n",
    "\n",
    "    #Lower case  Logic\n",
    "\n",
    "    else:\n",
    "        asciiCode = ord(c)+ Shift_Value\n",
    "        \n",
    "        if asciiCode > 122:# if the char will loop past z, - off 26 to cycle through the alphabet again\n",
    "            asciiCode= asciiCode - 26   \n",
    "        letterRes = chr(asciiCode)\n",
    "        c = letterRes\n",
    "        \n",
    "        \n",
    "    encodedPhrase = encodedPhrase + c\n",
    "\n",
    "print (encodedPhrase)"
   ]
  },
  {
   "cell_type": "markdown",
   "metadata": {},
   "source": [
    "# Question 2"
   ]
  },
  {
   "cell_type": "code",
   "execution_count": 222,
   "metadata": {},
   "outputs": [
    {
     "name": "stdout",
     "output_type": "stream",
     "text": [
      "what string you would like to decrypt: [mk}zq| zwks{! Pi~m i vqkm li!\n",
      "[MK}ZQ| ZWKS{! PI~M I VQKM LI!\n"
     ]
    },
    {
     "data": {
      "image/png": "[encoded data removed]",
      "text/plain": [
       "<Figure size 432x288 with 1 Axes>"
      ]
     },
     "metadata": {
      "needs_background": "light"
     },
     "output_type": "display_data"
    }
   ],
   "source": [
    "# import pandas as pd\n",
    "import pandas as pd\n",
    "import matplotlib.pylab as plt\n",
    "\n",
    "\n",
    "\n",
    "\n",
    "## get text for exercise \n",
    "encodedPhrase= input(\"what string you would like to decrypt: \")\n",
    "\n",
    "\n",
    "\n",
    "#letters to bucket frequency by\n",
    "Letter_for_frequency = 'ABCDEFGHIJKLMNOPQRSTUVWXYZ'\n",
    "\n",
    "#initialize dictionary with zero\n",
    "letter_frquency= {}\n",
    "for letter in Letter_for_frequency:\n",
    "    letter_frquency[letter] = 0\n",
    "\n",
    "#encodedPhrase = 'Alex e rmgi hec xshec!'\n",
    "cipher_text = encodedPhrase.upper() \n",
    "\n",
    "print(cipher_text)   \n",
    "for letter in cipher_text:\n",
    "    if letter.upper() in Letter_for_frequency:\n",
    "        letter_frquency[letter] += 1\n",
    "        #print(letter)\n",
    "\n",
    "\n",
    "\n",
    "\n",
    "centers = range(len(Letter_for_frequency))\n",
    "plt.bar(centers,letter_frquency.values(), align='center',tick_label=letter_frquency.keys())\n",
    "plt.xlim([0,len(Letter_for_frequency)-1])\n",
    "plt.show()\n",
    "\n",
    "    "
   ]
  },
  {
   "cell_type": "code",
   "execution_count": 223,
   "metadata": {},
   "outputs": [],
   "source": [
    "#Create function \n",
    "def decipher(Text_to_decipher, key):\n",
    "    De_ciph=\"\"\n",
    "\n",
    "    for c in Text_to_decipher:# loop through each char in the string\n",
    "    \n",
    "        if c.isalpha() == False:# check to see if character is a letter. if not, do nothing\n",
    "            c = c\n",
    "        \n",
    "       #Upper case logic  \n",
    "\n",
    "\n",
    "        elif c.isupper() == True: #check if the character is uppercase \n",
    "            asciiCode = (ord(c)) - key\n",
    "        \n",
    "            if asciiCode < 65: # if the char will loop past z, - off 26 to cycle through the alphabet again\n",
    "                asciiCode= asciiCode + 26\n",
    "            letterRes = chr(asciiCode)\n",
    "            c = letterRes\n",
    "\n",
    "        #Lower case  Logic\n",
    "\n",
    "        else:\n",
    "            asciiCode = ord(c) - key\n",
    "        \n",
    "            if asciiCode < 97:# if the char will loop past z, - off 26 to cycle through the alphabet again\n",
    "                asciiCode= asciiCode + 26\n",
    "            letterRes = chr(asciiCode)\n",
    "            c = letterRes\n",
    "        \n",
    "        \n",
    "        De_ciph = De_ciph + c\n",
    "        \n",
    "    return De_ciph;\n",
    "\n",
    "\n",
    "\n"
   ]
  },
  {
   "cell_type": "code",
   "execution_count": 228,
   "metadata": {},
   "outputs": [
    {
     "name": "stdout",
     "output_type": "stream",
     "text": [
      "0\n",
      "B\n",
      "4\n",
      "[ig}vm| vsgo{! Le~i e rmgi he!\n"
     ]
    }
   ],
   "source": [
    "import operator\n",
    "\n",
    "\n",
    "#put into df for easy transformation\n",
    "val= pd.DataFrame({'letter':list(letter_frquency),'frequency':list(letter_frquency.values())})\n",
    "#sort list by frequency\n",
    "val=val.sort_values(by='frequency', ascending=False)\n",
    "val=val.reset_index(drop=True)\n",
    "\n",
    "#list of words to break loop\n",
    "Break_word_list1= [\"THE\",\"AND\",\"FOR\",\"ARE\",\"BUT\",\"NOT\",\"YOU\",\"ALL\",\"ANY\",\"CAN\",\"HAD\",\"HER\",\"WAS\",\"ONE\",\"OUR\",\"OUT\",\"DAY\",\"GET\",\"HAS\",\"HIM\",\"HIS\",\"HOW\",\"MAN\",\"NEW\",\"NOW\",\"OLD\",\"SEE\",\"TWO\",\"WAY\",\"WHO\",\"BOY\",\"DID\",\"ITS\",\"LET\",\"PUT\",\"SAY\",\"SHE\",\"TOO\",\"USE\"]\n",
    "Break_word_list2= [\"OF\",\"TO\",\"IN\",\"IT\",\"IS\",\"BE\",\"AS\",\"AT\",\"SO\",\"WE\",\"HE\",\"BY\",\"OR\",\"ON\",\"DO\",\"IF\",\"ME\",\"MY\",\"UP\",\"AN\",\"GO\",\"NO\",\"US\",\"AM\"]\n",
    "Break_word_list3= [\"THAT\",\"WITH\",\"HAVE\",\"THIS\",\"WILL\",\"YOUR\",\"FROM\",\"THEY\",\"KNOW\",\"WANT\",\"BEEN\",\"GOOD\",\"MUCH\",\"SOME\",\"TIME\"]\n",
    "\n",
    "\n",
    "#loop through the 26 keys\n",
    "for i in range(0,len(val)):\n",
    "    res = val.letter[i]\n",
    "    #find key by using the most frequent letter and assumes it is e\n",
    "    if  ord(res) - ord('E')<1:\n",
    "        key = ord('E') - ord(res)\n",
    "    else:\n",
    "        key = ord(res) - ord('E')\n",
    "    \n",
    "\n",
    " \n",
    "\n",
    "    Text_to_check = decipher(encodedPhrase,key)\n",
    "\n",
    "    if len(Text_to_check)<100:\n",
    "        if (any(word in Text_to_check.upper() for word in Break_word_list1) and any(word in Text_to_check.upper() for word in Break_word_list2))\\\n",
    "        or (any(word in Text_to_check.upper() for word in Break_word_list3) and any(word in Text_to_check.upper() for word in Break_word_list1)):           \n",
    "            print(i)\n",
    "            print (k)\n",
    "            print(key)\n",
    "            print(Text_to_check)\n",
    "            break\n",
    "    else:\n",
    "        if  any(word in Text_to_check.upper() for word in Break_word_list1) and any(word in Text_to_check.upper() for word in Break_word_list3):           \n",
    "            print(i)\n",
    "            print (k)\n",
    "            print(key)\n",
    "            print(Text_to_check)\n",
    "            break   \n",
    "        "
   ]
  },
  {
   "cell_type": "code",
   "execution_count": 1,
   "metadata": {},
   "outputs": [],
   "source": [
    "from IPython.display import Image\n",
    "import sys\n",
    "import os\n",
    "from Crypto.Cipher import AES\n",
    "\n",
    "image()"
   ]
  },
  {
   "cell_type": "code",
   "execution_count": null,
   "metadata": {},
   "outputs": [],
   "source": []
  }
 ],
 "metadata": {
  "kernelspec": {
   "display_name": "Python 3",
   "language": "python",
   "name": "python3"
  },
  "language_info": {
   "codemirror_mode": {
    "name": "ipython",
    "version": 3
   },
   "file_extension": ".py",
   "mimetype": "text/x-python",
   "name": "python",
   "nbconvert_exporter": "python",
   "pygments_lexer": "ipython3",
   "version": "3.7.0"
  }
 },
 "nbformat": 4,
 "nbformat_minor": 2
}
