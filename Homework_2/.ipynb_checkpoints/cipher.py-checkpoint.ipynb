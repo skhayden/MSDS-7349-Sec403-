{
 "cells": [
  {
   "cell_type": "markdown",
   "metadata": {},
   "source": [
    "# Intro Code"
   ]
  },
  {
   "cell_type": "code",
   "execution_count": null,
   "metadata": {},
   "outputs": [],
   "source": [
    "letter = 'a'\n",
    "#converts a letter to ascii code \n",
    "asciiCode = ord(letter)\n",
    "#converts ascii code to a letter \n",
    "letterRes = chr(asciiCode)\n",
    "print (asciiCode, letterRes)"
   ]
  },
  {
   "cell_type": "markdown",
   "metadata": {},
   "source": [
    "# Question 1"
   ]
  },
  {
   "cell_type": "markdown",
   "metadata": {},
   "source": [
    "### Part 1"
   ]
  },
  {
   "cell_type": "code",
   "execution_count": 4,
   "metadata": {},
   "outputs": [
    {
     "name": "stdout",
     "output_type": "stream",
     "text": [
      "what string you would like to encrypt: wer\n",
      "what shift value would you like to use: 4\n",
      "w\n",
      "we\n",
      "wer\n"
     ]
    }
   ],
   "source": [
    "# get text for exercise \n",
    "Text_to_Encrypt= input(\"what string you would like to encrypt: \")\n",
    "Shift_Value = int(input(\"what shift value would you like to use: \"))\n",
    "a=0\n",
    "encodedPhrase = \"\"\n",
    "for c in Text_to_Encrypt:\n",
    "    encodedPhrase = encodedPhrase + c\n",
    " \n",
    "    print(encodedPhrase)\n",
    "    \n",
    "\n",
    "\n"
   ]
  },
  {
   "cell_type": "markdown",
   "metadata": {},
   "source": [
    "### Part 2"
   ]
  },
  {
   "cell_type": "code",
   "execution_count": 12,
   "metadata": {},
   "outputs": [
    {
     "name": "stdout",
     "output_type": "stream",
     "text": [
      "what string you would like to encrypt: This is for question two. \n",
      "what shift value would you like to use: 4\n",
      "Xxxx xx xxx xxxxxxxx xxx. \n"
     ]
    }
   ],
   "source": [
    "# get text for exercise \n",
    "Text_to_Encrypt= input(\"what string you would like to encrypt: \")\n",
    "Shift_Value = int(input(\"what shift value would you like to use: \"))\n",
    "\n",
    "encodedPhrase = \"\"\n",
    "\n",
    "for c in Text_to_Encrypt:\n",
    "    \n",
    "    if c.isalpha() == False:\n",
    "        c = c\n",
    "    elif c.isupper() == True: \n",
    "        c = \"X\"\n",
    "    else:\n",
    "        c = \"x\"  \n",
    "        \n",
    "    encodedPhrase = encodedPhrase + c\n",
    "\n",
    "print (encodedPhrase)"
   ]
  },
  {
   "cell_type": "markdown",
   "metadata": {},
   "source": [
    "### Part 3"
   ]
  },
  {
   "cell_type": "code",
   "execution_count": 210,
   "metadata": {},
   "outputs": [
    {
     "name": "stdout",
     "output_type": "stream",
     "text": [
      "what string you would like to encrypt: I have written a longer post to let people test their decryption algorithm. I have found the short post don’t provide enough data for my algorithm to work better than brute force.  I assumed the letter with the highest frequency was “E”, and took the difference from the highest frequency letter and “E”. It would then check for a couple common words. If it did not find any, it would then assume the second highest frequency letter was “E” and repeat the process all the way through the alphabet.  Since I ran into the issue with short post, I added another layer to the logic. If the text is less than one hundred letter, it would look for the most common two letter words. If it was greater than one hundred letter, it would have to find a couple three and four letter words before it stopped.  \n",
      "what shift value would you like to use: 21\n",
      "D cvqz rmdoozi v gjibzm kjno oj gzo kzjkgz ozno oczdm yzxmtkodji vgbjmdoch. D cvqz ajpiy ocz ncjmo kjno yji’o kmjqdyz zijpbc yvov ajm ht vgbjmdoch oj rjmf wzoozm ocvi wmpoz ajmxz.  D vnnphzy ocz gzoozm rdoc ocz cdbczno amzlpzixt rvn “Z”, viy ojjf ocz ydaazmzixz amjh ocz cdbczno amzlpzixt gzoozm viy “Z”. Do rjpgy oczi xczxf ajm v xjpkgz xjhhji rjmyn. Da do ydy ijo adiy vit, do rjpgy oczi vnnphz ocz nzxjiy cdbczno amzlpzixt gzoozm rvn “Z” viy mzkzvo ocz kmjxznn vgg ocz rvt ocmjpbc ocz vgkcvwzo.  Ndixz D mvi dioj ocz dnnpz rdoc ncjmo kjno, D vyyzy vijoczm gvtzm oj ocz gjbdx. Da ocz ozso dn gznn ocvi jiz cpiymzy gzoozm, do rjpgy gjjf ajm ocz hjno xjhhji orj gzoozm rjmyn. Da do rvn bmzvozm ocvi jiz cpiymzy gzoozm, do rjpgy cvqz oj adiy v xjpkgz ocmzz viy ajpm gzoozm rjmyn wzajmz do nojkkzy.  \n"
     ]
    }
   ],
   "source": [
    "## get text for exercise \n",
    "Text_to_Encrypt= input(\"what string you would like to encrypt: \")\n",
    "Shift_Value = int(input(\"what shift value would you like to use: \"))\n",
    "\n",
    "encodedPhrase = \"\"\n",
    "\n",
    "for c in Text_to_Encrypt:# loop through each char in the string\n",
    "    \n",
    "    if c.isalpha() == False:# check to see if character is a letter. if not, do nothing\n",
    "        c = c\n",
    "        \n",
    "   #Upper case logic  \n",
    "\n",
    "\n",
    "    elif c.isupper() == True: #check if the character is uppercase \n",
    "        asciiCode = (ord(c))+ Shift_Value\n",
    "        \n",
    "        if asciiCode > 90: # if the char will loop past z, - off 26 to cycle through the alphabet again\n",
    "            asciiCode= asciiCode - 26   \n",
    "        letterRes = chr(asciiCode)\n",
    "        c = letterRes\n",
    "\n",
    "    #Lower case  Logic\n",
    "\n",
    "    else:\n",
    "        asciiCode = ord(c)+ Shift_Value\n",
    "        \n",
    "        if asciiCode > 122:# if the char will loop past z, - off 26 to cycle through the alphabet again\n",
    "            asciiCode= asciiCode - 26   \n",
    "        letterRes = chr(asciiCode)\n",
    "        c = letterRes\n",
    "        \n",
    "        \n",
    "    encodedPhrase = encodedPhrase + c\n",
    "\n",
    "print (encodedPhrase)"
   ]
  },
  {
   "cell_type": "markdown",
   "metadata": {},
   "source": [
    "# Question 2"
   ]
  },
  {
   "cell_type": "code",
   "execution_count": 13,
   "metadata": {},
   "outputs": [
    {
     "name": "stdout",
     "output_type": "stream",
     "text": [
      "what string you would like to decrypt: U omz'f imuf rad Ebduzs iqmftqd fa mdduhq!\n",
      "U OMZ'F IMUF RAD EBDUZS IQMFTQD FA MDDUHQ!\n"
     ]
    },
    {
     "data": {
      "text/plain": [
       "<Figure size 640x480 with 1 Axes>"
      ]
     },
     "metadata": {},
     "output_type": "display_data"
    }
   ],
   "source": [
    "# import pandas as pd\n",
    "import pandas as pd\n",
    "import matplotlib.pylab as plt\n",
    "\n",
    "\n",
    "\n",
    "\n",
    "## get text for exercise \n",
    "encodedPhrase= input(\"what string you would like to decrypt: \")\n",
    "\n",
    "\n",
    "\n",
    "#letters to bucket frequency by\n",
    "Letter_for_frequency = 'ABCDEFGHIJKLMNOPQRSTUVWXYZ'\n",
    "\n",
    "#initialize dictionary with zero\n",
    "letter_frquency= {}\n",
    "for letter in Letter_for_frequency:\n",
    "    letter_frquency[letter] = 0\n",
    "\n",
    "#encodedPhrase = 'Alex e rmgi hec xshec!'\n",
    "cipher_text = encodedPhrase.upper() \n",
    "\n",
    "print(cipher_text)   \n",
    "for letter in cipher_text:\n",
    "    if letter.upper() in Letter_for_frequency:\n",
    "        letter_frquency[letter] += 1\n",
    "        #print(letter)\n",
    "\n",
    "\n",
    "\n",
    "\n",
    "centers = range(len(Letter_for_frequency))\n",
    "plt.bar(centers,letter_frquency.values(), align='center',tick_label=letter_frquency.keys())\n",
    "plt.xlim([0,len(Letter_for_frequency)-1])\n",
    "plt.show()\n",
    "\n",
    "    "
   ]
  },
  {
   "cell_type": "code",
   "execution_count": 14,
   "metadata": {},
   "outputs": [],
   "source": [
    "#Create function \n",
    "def decipher(Text_to_decipher, key):\n",
    "    De_ciph=\"\"\n",
    "\n",
    "    for c in Text_to_decipher:# loop through each char in the string\n",
    "    \n",
    "        if c.isalpha() == False:# check to see if character is a letter. if not, do nothing\n",
    "            c = c\n",
    "        \n",
    "       #Upper case logic  \n",
    "\n",
    "\n",
    "        elif c.isupper() == True: #check if the character is uppercase \n",
    "            asciiCode = (ord(c)) - key\n",
    "        \n",
    "            if asciiCode < 65: # if the char will loop past z, - off 26 to cycle through the alphabet again\n",
    "                asciiCode= asciiCode + 26\n",
    "            letterRes = chr(asciiCode)\n",
    "            c = letterRes\n",
    "\n",
    "        #Lower case  Logic\n",
    "\n",
    "        else:\n",
    "            asciiCode = ord(c) - key\n",
    "        \n",
    "            if asciiCode < 97:# if the char will loop past z, - off 26 to cycle through the alphabet again\n",
    "                asciiCode= asciiCode + 26\n",
    "            letterRes = chr(asciiCode)\n",
    "            c = letterRes\n",
    "        \n",
    "        \n",
    "        De_ciph = De_ciph + c\n",
    "        \n",
    "    return De_ciph;\n",
    "\n",
    "\n",
    "\n"
   ]
  },
  {
   "cell_type": "code",
   "execution_count": 19,
   "metadata": {},
   "outputs": [
    {
     "name": "stdout",
     "output_type": "stream",
     "text": [
      "4 iteration\n",
      "12\n",
      "I can't wait for Spring weather to arrive!\n"
     ]
    }
   ],
   "source": [
    "import operator\n",
    "\n",
    "\n",
    "#put into df for easy transformation\n",
    "val= pd.DataFrame({'letter':list(letter_frquency),'frequency':list(letter_frquency.values())})\n",
    "#sort list by frequency\n",
    "val=val.sort_values(by='frequency', ascending=False)\n",
    "val=val.reset_index(drop=True)\n",
    "\n",
    "#list of words to break loop\n",
    "Break_word_list1= [\"THE\",\"AND\",\"FOR\",\"ARE\",\"BUT\",\"NOT\",\"YOU\",\"ALL\",\"ANY\",\"CAN\",\"HAD\",\"HER\",\"WAS\",\"ONE\",\"OUR\",\"OUT\",\"DAY\",\"GET\",\"HAS\",\"HIM\",\"HIS\",\"HOW\",\"MAN\",\"NEW\",\"NOW\",\"OLD\",\"SEE\",\"TWO\",\"WAY\",\"WHO\",\"BOY\",\"DID\",\"ITS\",\"LET\",\"PUT\",\"SAY\",\"SHE\",\"TOO\",\"USE\"]\n",
    "Break_word_list2= [\"OF\",\"TO\",\"IN\",\"IT\",\"IS\",\"BE\",\"AS\",\"AT\",\"SO\",\"WE\",\"HE\",\"BY\",\"OR\",\"ON\",\"DO\",\"IF\",\"ME\",\"MY\",\"UP\",\"AN\",\"GO\",\"NO\",\"US\",\"AM\"]\n",
    "Break_word_list3= [\"THAT\",\"WITH\",\"HAVE\",\"THIS\",\"WILL\",\"YOUR\",\"FROM\",\"THEY\",\"KNOW\",\"WANT\",\"BEEN\",\"GOOD\",\"MUCH\",\"SOME\",\"TIME\"]\n",
    "\n",
    "\n",
    "#loop through the 26 keys\n",
    "for i in range(0,len(val)):\n",
    "    res = val.letter[i]\n",
    "    #find key by using the most frequent letter and assumes it is e\n",
    "    if  ord(res) - ord('E')<1:\n",
    "        key = ord('E') - ord(res)\n",
    "    else:\n",
    "        key = ord(res) - ord('E')\n",
    "    \n",
    "\n",
    " \n",
    "\n",
    "    Text_to_check = decipher(encodedPhrase,key)\n",
    "\n",
    "    if len(Text_to_check)<100:\n",
    "        if (any(word in Text_to_check.upper() for word in Break_word_list1) and any(word in Text_to_check.upper() for word in Break_word_list2))\\\n",
    "        or (any(word in Text_to_check.upper() for word in Break_word_list3) and any(word in Text_to_check.upper() for word in Break_word_list1)):           \n",
    "            print(i,\"iteration\")\n",
    "            print(key)\n",
    "            print(Text_to_check)\n",
    "            break\n",
    "    else:\n",
    "        if  any(word in Text_to_check.upper() for word in Break_word_list1) and any(word in Text_to_check.upper() for word in Break_word_list3):           \n",
    "            print(i,\"iteration\")\n",
    "            print(key)\n",
    "            print(Text_to_check)\n",
    "            break   \n",
    "        "
   ]
  },
  {
   "cell_type": "code",
   "execution_count": 24,
   "metadata": {},
   "outputs": [],
   "source": [
    "from PIL import Image\n",
    "from Crypto.Cipher import AES\n",
    "from Crypto.Util import Counter\n",
    " \n",
    "filename = \"Programming_Image.jpg\"\n",
    "filename_out = \"Programming_ctr_encrypted\"\n",
    "format = \"BMP\"\n",
    "key = \"aaaabbbbccccdddd\"\n",
    " \n",
    "# AES requires that plaintexts be a multiple of 16, so we have to pad the data\n",
    "def pad(data):\n",
    "    return data + b\"\\x00\"*(16-len(data)%16) \n",
    " \n",
    "# Maps the RGB \n",
    "def convert_to_RGB(data):\n",
    "    r, g, b = tuple(map(lambda d: [data[i] for i in range(0,len(data)) if i % 3 == d], [0, 1, 2]))\n",
    "    pixels = tuple(zip(r,g,b))\n",
    "    return pixels\n",
    "    \n",
    "def process_image(filename):\n",
    "    # Opens image and converts it to RGB format for PIL\n",
    "    im = Image.open(filename)\n",
    "    data = im.convert(\"RGB\").tobytes() \n",
    " \n",
    "    # Since we will pad the data to satisfy AES's multiple-of-16 requirement, we will store the original data length and\n",
    "    # \"unpad\" it later.\n",
    "    original = len(data) \n",
    " \n",
    "    # Encrypts using desired AES mode\n",
    "    new = convert_to_RGB(aes_ctr_encrypt(key, pad(data))[:original]) \n",
    "    \n",
    "    # Create a new PIL Image object and save the old image data into the new image.\n",
    "    im2 = Image.new(im.mode, im.size)\n",
    "    im2.putdata(new)\n",
    "    \n",
    "    #Save image\n",
    "    im2.save(filename_out+\".\"+format, format)\n",
    " \n",
    "    \n",
    "# CBC\n",
    "def aes_cbc_encrypt(key, data, mode=AES.MODE_CBC):\n",
    "    IV = \"A\"*16  #We'll manually set the initialization vector to simplify things\n",
    "    aes = AES.new(key, mode, IV)\n",
    "    new_data = aes.encrypt(data)\n",
    "    return new_data\n",
    "# ECB\n",
    "def aes_ecb_encrypt(key, data, mode=AES.MODE_ECB):\n",
    "    aes = AES.new(key, mode)\n",
    "    new_data = aes.encrypt(data)\n",
    "    return new_data\n",
    "# CTR\n",
    "def aes_ctr_encrypt(key, data, mode=AES.MODE_CTR):\n",
    "    ctr = Counter.new(128)\n",
    "    aes = AES.new(key, mode, counter=ctr)\n",
    "    new_data = aes.encrypt(data)\n",
    "    return new_data\n",
    "process_image(filename)\n",
    "\n",
    "\n",
    "\n"
   ]
  },
  {
   "cell_type": "code",
   "execution_count": null,
   "metadata": {},
   "outputs": [],
   "source": []
  }
 ],
 "metadata": {
  "kernelspec": {
   "display_name": "Python 3",
   "language": "python",
   "name": "python3"
  },
  "language_info": {
   "codemirror_mode": {
    "name": "ipython",
    "version": 3
   },
   "file_extension": ".py",
   "mimetype": "text/x-python",
   "name": "python",
   "nbconvert_exporter": "python",
   "pygments_lexer": "ipython3",
   "version": "3.7.0"
  }
 },
 "nbformat": 4,
 "nbformat_minor": 2
}
